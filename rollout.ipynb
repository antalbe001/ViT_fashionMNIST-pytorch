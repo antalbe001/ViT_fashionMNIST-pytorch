{
  "cells": [
    {
      "cell_type": "markdown",
      "metadata": {
        "id": "WG-N2wQhVUfH"
      },
      "source": [
        "## Import libraries"
      ]
    },
    {
      "cell_type": "code",
      "execution_count": 1,
      "metadata": {
        "id": "vjDtScPCJu47"
      },
      "outputs": [],
      "source": [
        "import os\n",
        "import random\n",
        "\n",
        "import torch\n",
        "import torch.nn as nn\n",
        "import torch.nn.functional as F\n",
        "import torch.optim as optim\n",
        "import torch.utils.data as data\n",
        "import torchvision\n",
        "\n",
        "import numpy as np\n",
        "import matplotlib.pyplot as plt\n",
        "from datetime import datetime\n",
        "from tqdm.notebook import tqdm_notebook\n",
        "from My_ViT import VisionTransformer, img_to_patch\n"
      ]
    },
    {
      "cell_type": "code",
      "execution_count": 2,
      "metadata": {
        "colab": {
          "base_uri": "https://localhost:8080/"
        },
        "id": "jS20dTmWWLss",
        "outputId": "8b3239ee-7dfd-430c-9ad3-0dcc9aacf12f"
      },
      "outputs": [
        {
          "name": "stdout",
          "output_type": "stream",
          "text": [
            "Device: mps\n"
          ]
        },
        {
          "name": "stderr",
          "output_type": "stream",
          "text": [
            "/var/folders/4t/vzt8rmpj2bzg8tyypgszxpqc0000gp/T/ipykernel_51542/1183298594.py:1: FutureWarning: You are using `torch.load` with `weights_only=False` (the current default value), which uses the default pickle module implicitly. It is possible to construct malicious pickle data which will execute arbitrary code during unpickling (See https://github.com/pytorch/pytorch/blob/main/SECURITY.md#untrusted-models for more details). In a future release, the default value for `weights_only` will be flipped to `True`. This limits the functions that could be executed during unpickling. Arbitrary objects will no longer be allowed to be loaded via this mode unless they are explicitly allowlisted by the user via `torch.serialization.add_safe_globals`. We recommend you start setting `weights_only=True` for any use case where you don't have full control of the loaded file. Please open an issue on GitHub for any issues related to this experimental feature.\n",
            "  model = torch.load('./saved_model.pth')\n"
          ]
        }
      ],
      "source": [
        "model = torch.load('./saved_model.pth')\n",
        "device = torch.device(\"mps\" if torch.backends.mps.is_available() else \"cpu\")\n",
        "model = model.to(device)\n",
        "print(\"Device:\", device)\n",
        "random.seed(42)\n",
        "g = torch.Generator().manual_seed(2147483647) # for reproducibility\n",
        "# Ensure that all operations are deterministic on GPU (if used) for reproducibility\n",
        "torch.backends.cudnn.deterministic = True\n",
        "torch.backends.cudnn.benchmark = False"
      ]
    },
    {
      "cell_type": "code",
      "execution_count": 3,
      "metadata": {
        "id": "KFBKdZyaVBce"
      },
      "outputs": [],
      "source": [
        "image_size = 28\n",
        "embed_dim=255\n",
        "hidden_dim=embed_dim*3\n",
        "num_heads=3\n",
        "num_layers=6\n",
        "patch_size=7\n",
        "num_patches=16\n",
        "num_channels=1\n",
        "num_classes=10\n",
        "dropout=0.2"
      ]
    },
    {
      "cell_type": "markdown",
      "metadata": {
        "id": "clIxG3FpVNLr"
      },
      "source": [
        "## Downloading FashionMNIST from torchvision"
      ]
    },
    {
      "cell_type": "code",
      "execution_count": 4,
      "metadata": {
        "colab": {
          "base_uri": "https://localhost:8080/"
        },
        "id": "EfPaYgQ1Mj_7",
        "outputId": "274f2059-d85f-476d-b646-62ead6efd7d5"
      },
      "outputs": [],
      "source": [
        "# set the preprocess operations to be performed on train/val/test samples\n",
        "MNIST_preprocess = torchvision.transforms.Compose([torchvision.transforms.ToTensor(),\n",
        "                                                   torchvision.transforms.Normalize((0.5,), (0.5,))])\n",
        "\n",
        "# download MNIST training set and reserve 50000 for training\n",
        "train_dataset = torchvision.datasets.FashionMNIST(root='./data/torchvision/FashionMNIST/training', train=True, download=True, transform=MNIST_preprocess)\n",
        "train_set, val_set = torch.utils.data.random_split(train_dataset, [50000, 10000])\n",
        "\n",
        "# download MNIST test set\n",
        "test_set = torchvision.datasets.FashionMNIST(root='./data/torchvision/FashionMNIST/testing', train=False, download=True, transform=MNIST_preprocess)\n",
        "\n",
        "# We define the data loaders using the datasets\n",
        "train_loader = torch.utils.data.DataLoader(dataset=train_set, batch_size=32, shuffle=True)\n",
        "val_loader = torch.utils.data.DataLoader(dataset=val_set, batch_size=32, shuffle=False)\n",
        "test_loader = torch.utils.data.DataLoader(dataset=test_set, batch_size=32, shuffle=False)"
      ]
    },
    {
      "cell_type": "markdown",
      "metadata": {
        "id": "HCgXgIjuUD7r"
      },
      "source": [
        "## Picking one test sample and running it through the attention block"
      ]
    },
    {
      "cell_type": "code",
      "execution_count": 20,
      "metadata": {
        "id": "CDFo3pgIiPuh"
      },
      "outputs": [
        {
          "name": "stdout",
          "output_type": "stream",
          "text": [
            "74\n",
            "torch.uint8\n"
          ]
        }
      ],
      "source": [
        "test_sample_index = (test_set.targets==2).nonzero(as_tuple=True)[0][10].item()\n",
        "print(test_sample_index)\n",
        "#img_tensor = test_set.data[test_sample_index].to(device)\n",
        "img_tensor = test_set[test_sample_index][0].squeeze().to(device)\n",
        "img_tensor = (img_tensor * 255).clamp(0, 255).byte()\n",
        "print(img_tensor.dtype)\n",
        "patches = img_to_patch(img_tensor.unsqueeze(0).unsqueeze(0), patch_size=patch_size)\n",
        "patches = model.input_layer(patches.float())\n",
        "transformer_input = torch.cat((model.cls_token, patches), dim=1) + model.pos_embedding"
      ]
    },
    {
      "cell_type": "markdown",
      "metadata": {
        "id": "lVM5buibSpeK"
      },
      "source": [
        "## Plotting attention\n"
      ]
    },
    {
      "cell_type": "code",
      "execution_count": 21,
      "metadata": {},
      "outputs": [],
      "source": [
        "# Funzione per il rollout dell'attenzione\n",
        "def attention_rollout_function(attn_maps):\n",
        "    attn_rollout = []\n",
        "    I = torch.eye(attn_maps[0].shape[-1]).to(attn_maps[0].device)  # Matrice identità sulla corretta device\n",
        "    prod = I\n",
        "    for i, attn_map in enumerate(attn_maps):\n",
        "        # Somma dell'attenzione con la matrice identità (residual connection)\n",
        "        prod = prod @ (attn_map + I)  \n",
        "        \n",
        "        # Normalizzazione\n",
        "        prod = prod / prod.sum(dim=-1, keepdim=True) \n",
        "        attn_rollout.append(prod)\n",
        "    return attn_rollout"
      ]
    },
    {
      "cell_type": "code",
      "execution_count": 22,
      "metadata": {},
      "outputs": [],
      "source": [
        "# Funzione per estrarre le matrici di attenzione attraverso i livelli del vit\n",
        "def extract_attention_maps(model, transformer_input, num_heads, device):\n",
        "    attn_maps = []\n",
        "\n",
        "    for block in model.transformer:\n",
        "        \n",
        "        # Estrai il tensore linearizzato del blocco\n",
        "        transformer_input_expanded = block.linear[0](transformer_input).squeeze(0)\n",
        "        \n",
        "        # Reshape del risultato dell'attenzione\n",
        "        qkv = transformer_input_expanded.reshape(num_patches + 1, 3, -1, num_heads).permute(1, 3, 0, 2)\n",
        "        q = qkv[0]  # Matrice delle query (num_heads, num_patches + 1, embedding_size // num_heads)\n",
        "        k = qkv[1]  # Matrice delle key (num_heads, num_patches + 1, embedding_size // num_heads)\n",
        "        \n",
        "        # Moltiplicazione di q e k^T per ottenere le matrici di attenzione per ciascuna head\n",
        "        kT = k.transpose(-2, -1)  # Trasposizione per la moltiplicazione corretta\n",
        "        attention_matrices = torch.matmul(q, kT)  # Dim: (num_heads, num_patches + 1, num_patches + 1)\n",
        "\n",
        "        # Aggiunta delle connessioni residue e normalizzazione\n",
        "        residual_att = torch.eye(attention_matrices.size(-1)).to(device)\n",
        "        aug_att_mats = attention_matrices + residual_att\n",
        "        aug_att_mats = aug_att_mats / aug_att_mats.sum(dim=-1).unsqueeze(-1)\n",
        "\n",
        "        # Media su tutte le teste di attenzione\n",
        "        avg_attention = aug_att_mats.mean(dim=0)  # Media delle heads\n",
        "\n",
        "        # Aggiungi la matrice di attenzione alla lista\n",
        "        attn_maps.append(avg_attention)\n",
        "\n",
        "    return attn_maps"
      ]
    },
    {
      "cell_type": "code",
      "execution_count": 23,
      "metadata": {},
      "outputs": [
        {
          "data": {
            "image/png": "[encoded data removed]",
            "text/plain": [
              "<Figure size 800x800 with 1 Axes>"
            ]
          },
          "metadata": {},
          "output_type": "display_data"
        }
      ],
      "source": [
        "# Estrai le mappe di attenzione\n",
        "attn_maps = extract_attention_maps(model, transformer_input, num_heads, device)\n",
        "\n",
        "# Esegui il rollout sulle mappe di attenzione estratte\n",
        "rollout_matrices = attention_rollout_function(attn_maps)\n",
        "\n",
        "# Visualizza il risultato del rollout finale\n",
        "final_rollout = rollout_matrices[-1]  # La matrice finale dopo il rollout di tutti i livelli\n",
        "\n",
        "# Visualizzazione delle heatmap dell'attenzione rollout finale\n",
        "fig, ax = plt.subplots(figsize=(8, 8))\n",
        "attn_heatmap = final_rollout[0, 1:].reshape((int(image_size / patch_size), int(image_size / patch_size)))\n",
        "attn_heatmap_resized = F.interpolate(attn_heatmap.unsqueeze(0).unsqueeze(0), [image_size, image_size], mode='bilinear').view(28, 28, 1)\n",
        "ax.imshow(attn_heatmap_resized.detach().cpu().numpy(), cmap='viridis')\n",
        "ax.set_title('Attention Rollout Finale')\n",
        "ax.tick_params(axis='both', which='both', bottom=False, top=False, left=False, right=False,\n",
        "               labelbottom=False, labeltop=False, labelleft=False, labelright=False)\n",
        "\n",
        "plt.show()"
      ]
    },
    {
      "cell_type": "code",
      "execution_count": 24,
      "metadata": {},
      "outputs": [
        {
          "name": "stdout",
          "output_type": "stream",
          "text": [
            "attn_heatmap:  torch.Size([4, 4])\n",
            "attn_heatmap_resized:  torch.Size([28, 28, 1])\n"
          ]
        },
        {
          "data": {
            "image/png": "[encoded data removed]",
            "text/plain": [
              "<Figure size 1200x600 with 2 Axes>"
            ]
          },
          "metadata": {},
          "output_type": "display_data"
        }
      ],
      "source": [
        "attn_heatmap = final_rollout[0, 1:].reshape((int(image_size/patch_size), int(image_size/patch_size)))\n",
        "print(\"attn_heatmap: \", attn_heatmap.shape)\n",
        "attn_heatmap_resized = F.interpolate(attn_heatmap.unsqueeze(0).unsqueeze(0), [image_size, image_size], mode='bilinear').view(28, 28, 1)\n",
        "print(\"attn_heatmap_resized: \", attn_heatmap_resized.shape)\n",
        "\n",
        "fig, (ax1, ax2) = plt.subplots(1, 2, figsize=(12, 6))\n",
        "img = np.asarray(img_tensor.cpu())\n",
        "ax1.imshow(img, cmap='gray')\n",
        "ax1.set_title('MNIST test sample')\n",
        "ax1.tick_params(axis='both', which='both', bottom=False, top=False, left=False, right=False,\n",
        "               labelbottom=False, labeltop=False, labelleft=False, labelright=False)\n",
        "\n",
        "ax2.imshow(attn_heatmap_resized.detach().cpu().numpy())\n",
        "ax2.set_title('rollout attention map')\n",
        "ax2.tick_params(axis='both', which='both', bottom=False, top=False, left=False, right=False,\n",
        "                labelbottom=False, labeltop=False, labelleft=False, labelright=False)"
      ]
    }
  ],
  "metadata": {
    "accelerator": "GPU",
    "colab": {
      "gpuType": "T4",
      "provenance": []
    },
    "kernelspec": {
      "display_name": "Python 3",
      "name": "python3"
    },
    "language_info": {
      "codemirror_mode": {
        "name": "ipython",
        "version": 3
      },
      "file_extension": ".py",
      "mimetype": "text/x-python",
      "name": "python",
      "nbconvert_exporter": "python",
      "pygments_lexer": "ipython3",
      "version": "3.11.3"
    },
    "widgets": {
      "application/vnd.jupyter.widget-state+json": {
        "256ba44485a043ecb70e239514e300b9": {
          "model_module": "@jupyter-widgets/controls",
          "model_module_version": "1.5.0",
          "model_name": "DescriptionStyleModel",
          "state": {
            "_model_module": "@jupyter-widgets/controls",
            "_model_module_version": "1.5.0",
            "_model_name": "DescriptionStyleModel",
            "_view_count": null,
            "_view_module": "@jupyter-widgets/base",
            "_view_module_version": "1.2.0",
            "_view_name": "StyleView",
            "description_width": ""
          }
        },
        "25cc1d104ee6476aba246a97068e4592": {
          "model_module": "@jupyter-widgets/controls",
          "model_module_version": "1.5.0",
          "model_name": "HTMLModel",
          "state": {
            "_dom_classes": [],
            "_model_module": "@jupyter-widgets/controls",
            "_model_module_version": "1.5.0",
            "_model_name": "HTMLModel",
            "_view_count": null,
            "_view_module": "@jupyter-widgets/controls",
            "_view_module_version": "1.5.0",
            "_view_name": "HTMLView",
            "description": "",
            "description_tooltip": null,
            "layout": "IPY_MODEL_797f8fa659a44ce1a757215702c0b5b6",
            "placeholder": "​",
            "style": "IPY_MODEL_256ba44485a043ecb70e239514e300b9",
            "value": "epoch 1:   3%"
          }
        },
        "3c5dc0383fab49e79fca5a3d39e85993": {
          "model_module": "@jupyter-widgets/base",
          "model_module_version": "1.2.0",
          "model_name": "LayoutModel",
          "state": {
            "_model_module": "@jupyter-widgets/base",
            "_model_module_version": "1.2.0",
            "_model_name": "LayoutModel",
            "_view_count": null,
            "_view_module": "@jupyter-widgets/base",
            "_view_module_version": "1.2.0",
            "_view_name": "LayoutView",
            "align_content": null,
            "align_items": null,
            "align_self": null,
            "border": null,
            "bottom": null,
            "display": null,
            "flex": null,
            "flex_flow": null,
            "grid_area": null,
            "grid_auto_columns": null,
            "grid_auto_flow": null,
            "grid_auto_rows": null,
            "grid_column": null,
            "grid_gap": null,
            "grid_row": null,
            "grid_template_areas": null,
            "grid_template_columns": null,
            "grid_template_rows": null,
            "height": null,
            "justify_content": null,
            "justify_items": null,
            "left": null,
            "margin": null,
            "max_height": null,
            "max_width": null,
            "min_height": null,
            "min_width": null,
            "object_fit": null,
            "object_position": null,
            "order": null,
            "overflow": null,
            "overflow_x": null,
            "overflow_y": null,
            "padding": null,
            "right": null,
            "top": null,
            "visibility": null,
            "width": null
          }
        },
        "62d4acd1613a4063b7cdf04102715455": {
          "model_module": "@jupyter-widgets/base",
          "model_module_version": "1.2.0",
          "model_name": "LayoutModel",
          "state": {
            "_model_module": "@jupyter-widgets/base",
            "_model_module_version": "1.2.0",
            "_model_name": "LayoutModel",
            "_view_count": null,
            "_view_module": "@jupyter-widgets/base",
            "_view_module_version": "1.2.0",
            "_view_name": "LayoutView",
            "align_content": null,
            "align_items": null,
            "align_self": null,
            "border": null,
            "bottom": null,
            "display": null,
            "flex": null,
            "flex_flow": null,
            "grid_area": null,
            "grid_auto_columns": null,
            "grid_auto_flow": null,
            "grid_auto_rows": null,
            "grid_column": null,
            "grid_gap": null,
            "grid_row": null,
            "grid_template_areas": null,
            "grid_template_columns": null,
            "grid_template_rows": null,
            "height": null,
            "justify_content": null,
            "justify_items": null,
            "left": null,
            "margin": null,
            "max_height": null,
            "max_width": null,
            "min_height": null,
            "min_width": null,
            "object_fit": null,
            "object_position": null,
            "order": null,
            "overflow": null,
            "overflow_x": null,
            "overflow_y": null,
            "padding": null,
            "right": null,
            "top": null,
            "visibility": null,
            "width": null
          }
        },
        "797f8fa659a44ce1a757215702c0b5b6": {
          "model_module": "@jupyter-widgets/base",
          "model_module_version": "1.2.0",
          "model_name": "LayoutModel",
          "state": {
            "_model_module": "@jupyter-widgets/base",
            "_model_module_version": "1.2.0",
            "_model_name": "LayoutModel",
            "_view_count": null,
            "_view_module": "@jupyter-widgets/base",
            "_view_module_version": "1.2.0",
            "_view_name": "LayoutView",
            "align_content": null,
            "align_items": null,
            "align_self": null,
            "border": null,
            "bottom": null,
            "display": null,
            "flex": null,
            "flex_flow": null,
            "grid_area": null,
            "grid_auto_columns": null,
            "grid_auto_flow": null,
            "grid_auto_rows": null,
            "grid_column": null,
            "grid_gap": null,
            "grid_row": null,
            "grid_template_areas": null,
            "grid_template_columns": null,
            "grid_template_rows": null,
            "height": null,
            "justify_content": null,
            "justify_items": null,
            "left": null,
            "margin": null,
            "max_height": null,
            "max_width": null,
            "min_height": null,
            "min_width": null,
            "object_fit": null,
            "object_position": null,
            "order": null,
            "overflow": null,
            "overflow_x": null,
            "overflow_y": null,
            "padding": null,
            "right": null,
            "top": null,
            "visibility": null,
            "width": null
          }
        },
        "90cb293c408043019bd5a7476d7eb757": {
          "model_module": "@jupyter-widgets/controls",
          "model_module_version": "1.5.0",
          "model_name": "HTMLModel",
          "state": {
            "_dom_classes": [],
            "_model_module": "@jupyter-widgets/controls",
            "_model_module_version": "1.5.0",
            "_model_name": "HTMLModel",
            "_view_count": null,
            "_view_module": "@jupyter-widgets/controls",
            "_view_module_version": "1.5.0",
            "_view_name": "HTMLView",
            "description": "",
            "description_tooltip": null,
            "layout": "IPY_MODEL_fbd28b783cbb4b0b8b44c43cd9fa8e90",
            "placeholder": "​",
            "style": "IPY_MODEL_aa07b26dde844bea9f80e290d494bc43",
            "value": " 40/1563 [00:19&lt;10:35,  2.39it/s]"
          }
        },
        "aa07b26dde844bea9f80e290d494bc43": {
          "model_module": "@jupyter-widgets/controls",
          "model_module_version": "1.5.0",
          "model_name": "DescriptionStyleModel",
          "state": {
            "_model_module": "@jupyter-widgets/controls",
            "_model_module_version": "1.5.0",
            "_model_name": "DescriptionStyleModel",
            "_view_count": null,
            "_view_module": "@jupyter-widgets/base",
            "_view_module_version": "1.2.0",
            "_view_name": "StyleView",
            "description_width": ""
          }
        },
        "ced4f78cb7534778bc1db71a5f8a7210": {
          "model_module": "@jupyter-widgets/controls",
          "model_module_version": "1.5.0",
          "model_name": "ProgressStyleModel",
          "state": {
            "_model_module": "@jupyter-widgets/controls",
            "_model_module_version": "1.5.0",
            "_model_name": "ProgressStyleModel",
            "_view_count": null,
            "_view_module": "@jupyter-widgets/base",
            "_view_module_version": "1.2.0",
            "_view_name": "StyleView",
            "bar_color": null,
            "description_width": ""
          }
        },
        "e2b625bcec6443c1a37658865aa25076": {
          "model_module": "@jupyter-widgets/controls",
          "model_module_version": "1.5.0",
          "model_name": "FloatProgressModel",
          "state": {
            "_dom_classes": [],
            "_model_module": "@jupyter-widgets/controls",
            "_model_module_version": "1.5.0",
            "_model_name": "FloatProgressModel",
            "_view_count": null,
            "_view_module": "@jupyter-widgets/controls",
            "_view_module_version": "1.5.0",
            "_view_name": "ProgressView",
            "bar_style": "",
            "description": "",
            "description_tooltip": null,
            "layout": "IPY_MODEL_3c5dc0383fab49e79fca5a3d39e85993",
            "max": 1563,
            "min": 0,
            "orientation": "horizontal",
            "style": "IPY_MODEL_ced4f78cb7534778bc1db71a5f8a7210",
            "value": 41
          }
        },
        "ea28558c636d4e02bb5de998c978a444": {
          "model_module": "@jupyter-widgets/controls",
          "model_module_version": "1.5.0",
          "model_name": "HBoxModel",
          "state": {
            "_dom_classes": [],
            "_model_module": "@jupyter-widgets/controls",
            "_model_module_version": "1.5.0",
            "_model_name": "HBoxModel",
            "_view_count": null,
            "_view_module": "@jupyter-widgets/controls",
            "_view_module_version": "1.5.0",
            "_view_name": "HBoxView",
            "box_style": "",
            "children": [
              "IPY_MODEL_25cc1d104ee6476aba246a97068e4592",
              "IPY_MODEL_e2b625bcec6443c1a37658865aa25076",
              "IPY_MODEL_90cb293c408043019bd5a7476d7eb757"
            ],
            "layout": "IPY_MODEL_62d4acd1613a4063b7cdf04102715455"
          }
        },
        "fbd28b783cbb4b0b8b44c43cd9fa8e90": {
          "model_module": "@jupyter-widgets/base",
          "model_module_version": "1.2.0",
          "model_name": "LayoutModel",
          "state": {
            "_model_module": "@jupyter-widgets/base",
            "_model_module_version": "1.2.0",
            "_model_name": "LayoutModel",
            "_view_count": null,
            "_view_module": "@jupyter-widgets/base",
            "_view_module_version": "1.2.0",
            "_view_name": "LayoutView",
            "align_content": null,
            "align_items": null,
            "align_self": null,
            "border": null,
            "bottom": null,
            "display": null,
            "flex": null,
            "flex_flow": null,
            "grid_area": null,
            "grid_auto_columns": null,
            "grid_auto_flow": null,
            "grid_auto_rows": null,
            "grid_column": null,
            "grid_gap": null,
            "grid_row": null,
            "grid_template_areas": null,
            "grid_template_columns": null,
            "grid_template_rows": null,
            "height": null,
            "justify_content": null,
            "justify_items": null,
            "left": null,
            "margin": null,
            "max_height": null,
            "max_width": null,
            "min_height": null,
            "min_width": null,
            "object_fit": null,
            "object_position": null,
            "order": null,
            "overflow": null,
            "overflow_x": null,
            "overflow_y": null,
            "padding": null,
            "right": null,
            "top": null,
            "visibility": null,
            "width": null
          }
        }
      }
    }
  },
  "nbformat": 4,
  "nbformat_minor": 0
}
