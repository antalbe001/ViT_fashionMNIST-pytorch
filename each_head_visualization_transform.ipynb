{
  "cells": [
    {
      "cell_type": "code",
      "execution_count": 1,
      "metadata": {
        "id": "vjDtScPCJu47"
      },
      "outputs": [],
      "source": [
        "import os\n",
        "import random\n",
        "import torch\n",
        "import torch.nn as nn\n",
        "import torch.nn.functional as F\n",
        "import torch.optim as optim\n",
        "import torch.utils.data as data\n",
        "import torchvision\n",
        "import torchvision.transforms as T\n",
        "import torchvision.transforms.functional as Fun\n",
        "import numpy as np\n",
        "import matplotlib.pyplot as plt\n",
        "from datetime import datetime\n",
        "from tqdm.notebook import tqdm_notebook"
      ]
    },
    {
      "cell_type": "code",
      "execution_count": 2,
      "metadata": {
        "colab": {
          "base_uri": "https://localhost:8080/"
        },
        "id": "jS20dTmWWLss",
        "outputId": "34ec132b-9acc-493c-c3b9-a44120ec83f5"
      },
      "outputs": [
        {
          "name": "stdout",
          "output_type": "stream",
          "text": [
            "Device: cpu\n"
          ]
        }
      ],
      "source": [
        "#REPRODUCIBILITY\n",
        "\n",
        "# Setting the seed\n",
        "random.seed(42)\n",
        "g = torch.Generator().manual_seed(2147483647)\n",
        "\n",
        "# Ensure that all operations are deterministic on GPU (if used) for reproducibility\n",
        "torch.backends.cudnn.deterministic = True\n",
        "torch.backends.cudnn.benchmark = False\n",
        "\n",
        "device = torch.device(\"cuda:0\") if torch.cuda.is_available() else torch.device(\"cpu\")\n",
        "print(\"Device:\", device)"
      ]
    },
    {
      "cell_type": "code",
      "execution_count": 41,
      "metadata": {
        "id": "EfPaYgQ1Mj_7"
      },
      "outputs": [],
      "source": [
        "# Apply random transformations\n",
        "\n",
        "def random_transform(image):\n",
        "  if random.random() < 0.8:  # 50% prob of applying a transformation\n",
        "    if random.random() < 0.5:  # 50% prob of rotation\n",
        "      angle = random.choice([0, 90, 180, 270])\n",
        "      image = Fun.rotate(image, angle)\n",
        "    else:  # otherwise translation\n",
        "      translate = (random.uniform(0, 0.1), random.uniform(0, 0.1))\n",
        "      image = Fun.affine(image, angle=0, translate=translate, scale=1, shear=0)\n",
        "  return image\n",
        "\n",
        "# set the preprocess operations to be performed on train/val/test samples\n",
        "MNIST_preprocess = torchvision.transforms.Compose([\n",
        "  T.Lambda(random_transform), #apply random transformation\n",
        "  T.ToTensor(),\n",
        "  T.Normalize((0.5,), (0.5,))])\n",
        "\n",
        "# download fashionMNIST training set and reserve 50000 for training\n",
        "train_dataset = torchvision.datasets.FashionMNIST(root='./data/torchvision/FashionMNIST/training', train=True, download=True, transform=MNIST_preprocess)\n",
        "train_set, val_set = torch.utils.data.random_split(train_dataset, [50000, 10000])\n",
        "\n",
        "# download fashionMNIST test set\n",
        "test_set = torchvision.datasets.FashionMNIST(root='./data/torchvision/FashionMNIST/testing', train=False, download=True, transform=MNIST_preprocess)\n",
        "\n",
        "# We define the data loaders using the datasets\n",
        "train_loader = torch.utils.data.DataLoader(dataset=train_set, batch_size=32, shuffle=True)\n",
        "val_loader = torch.utils.data.DataLoader(dataset=val_set, batch_size=32, shuffle=False)\n",
        "test_loader = torch.utils.data.DataLoader(dataset=test_set, batch_size=32, shuffle=False)"
      ]
    },
    {
      "cell_type": "code",
      "execution_count": 42,
      "metadata": {
        "colab": {
          "base_uri": "https://localhost:8080/"
        },
        "id": "w06tAiSbaBKl",
        "outputId": "c353b3b0-a75c-4d55-8b41-e616fa13e949"
      },
      "outputs": [
        {
          "name": "stdout",
          "output_type": "stream",
          "text": [
            "---------training loader---------\n",
            "50000\n",
            "torch.Size([32, 1, 28, 28])\n",
            "torch.Size([32])\n",
            "---------validation loader---------\n",
            "10000\n",
            "torch.Size([32, 1, 28, 28])\n",
            "torch.Size([32])\n",
            "---------test loader---------\n",
            "10000\n",
            "torch.Size([32, 1, 28, 28])\n",
            "torch.Size([32])\n"
          ]
        }
      ],
      "source": [
        "# print the dimension of images to verify all loaders have the same dimensions\n",
        "def print_dim(loader, text):\n",
        "  print('---------'+text+'---------')\n",
        "  print(len(loader.dataset))\n",
        "  for image, label in loader:\n",
        "    print(image.shape)\n",
        "    print(label.shape)\n",
        "    break\n",
        "\n",
        "print_dim(train_loader,'training loader')\n",
        "print_dim(val_loader,'validation loader')\n",
        "print_dim(test_loader,'test loader')"
      ]
    },
    {
      "cell_type": "code",
      "execution_count": 92,
      "metadata": {
        "colab": {
          "base_uri": "https://localhost:8080/",
          "height": 521
        },
        "id": "UWL-NO-EPag0",
        "outputId": "f80a6ba8-a570-4823-98f4-a7903992e934"
      },
      "outputs": [
        {
          "data": {
            "image/png": "[encoded data removed]",
            "text/plain": [
              "<Figure size 600x600 with 1 Axes>"
            ]
          },
          "metadata": {},
          "output_type": "display_data"
        }
      ],
      "source": [
        "# Visualize some examples\n",
        "NUM_IMAGES = 8\n",
        "MNIST_examples = torch.stack([test_set[idx][0] for idx in range(NUM_IMAGES)], dim=0)\n",
        "img_grid = torchvision.utils.make_grid(MNIST_examples, nrow=2, normalize=True, pad_value=0.9)\n",
        "img_grid = img_grid.permute(1, 2, 0)\n",
        "\n",
        "plt.figure(figsize=(6, 6))\n",
        "plt.title(\"Image examples of the MNIST dataset\")\n",
        "plt.imshow(img_grid)\n",
        "plt.axis(\"off\")\n",
        "plt.show()\n",
        "plt.close()"
      ]
    },
    {
      "cell_type": "code",
      "execution_count": 44,
      "metadata": {
        "id": "UVkpEQMeORNd"
      },
      "outputs": [],
      "source": [
        "image_size = 28\n",
        "embed_dim=255\n",
        "hidden_dim=embed_dim*3\n",
        "num_heads=3\n",
        "num_layers=6\n",
        "patch_size=7\n",
        "num_patches=16\n",
        "num_channels=1\n",
        "num_classes=10\n",
        "dropout=0.2"
      ]
    },
    {
      "cell_type": "code",
      "execution_count": 45,
      "metadata": {
        "id": "PqPePGXJN222"
      },
      "outputs": [],
      "source": [
        "#PATCH EMBEDDING\n",
        "\n",
        "def img_to_patch(x, patch_size, flatten_channels=True):\n",
        "    \"\"\"\n",
        "    Inputs:\n",
        "        x - Tensor representing the image of shape [B, C, H, W]\n",
        "        patch_size - Number of pixels per dimension of the patches (integer)\n",
        "        flatten_channels - If True, the patches will be returned in a flattened format\n",
        "                           as a feature vector instead of a image grid.\n",
        "    \"\"\"\n",
        "    B, C, H, W = x.shape # [B, C, H, W], MNIST [B, 1, 28, 28]\n",
        "    x = x.reshape(B, C, H // patch_size, patch_size, W // patch_size, patch_size) # [B, C, H', p_H, W', p_W], MNIST [B, 1, 4, 7, 4, 7]\n",
        "    x = x.permute(0, 2, 4, 1, 3, 5)  # [B, H', W', C, p_H, p_W], MNIST [B, 4, 4, 1, 7, 7]\n",
        "    x = x.flatten(1, 2)  # [B, H'*W', C, p_H, p_W], MNIST [B, 16, 1, 7, 7]\n",
        "    if flatten_channels:\n",
        "        x = x.flatten(2, 4)  # [B, H'*W', C*p_H*p_W], MNIST [B, 16, 49]\n",
        "    return x"
      ]
    },
    {
      "cell_type": "code",
      "execution_count": 46,
      "metadata": {
        "colab": {
          "base_uri": "https://localhost:8080/",
          "height": 1000
        },
        "id": "4guH3mWSOZ6-",
        "outputId": "684145d2-9cb4-4c1c-9ea2-3524b6ada851"
      },
      "outputs": [
        {
          "data": {
            "image/png": "[encoded data removed]",
            "text/plain": [
              "<Figure size 1400x1200 with 8 Axes>"
            ]
          },
          "metadata": {},
          "output_type": "display_data"
        }
      ],
      "source": [
        "# VISUALIZE THE IMAGE PATCHES\n",
        "img_patches = img_to_patch(MNIST_examples, patch_size=patch_size, flatten_channels=False)\n",
        "\n",
        "fig, ax = plt.subplots(MNIST_examples.shape[0], 1, figsize=(14, 12))\n",
        "fig.suptitle(\"Images as input sequences of patches\")\n",
        "for i in range(MNIST_examples.shape[0]):\n",
        "    img_grid = torchvision.utils.make_grid(img_patches[i], nrow=int(image_size/patch_size), normalize=True, pad_value=0.9)\n",
        "    img_grid = img_grid.permute(1, 2, 0)\n",
        "    ax[i].imshow(img_grid)\n",
        "    ax[i].axis(\"off\")\n",
        "plt.show()\n",
        "plt.close()"
      ]
    },
    {
      "cell_type": "code",
      "execution_count": 47,
      "metadata": {
        "id": "IWrZnDnnS1X2"
      },
      "outputs": [],
      "source": [
        "class AttentionBlock(nn.Module):\n",
        "    def __init__(self, embed_dim, hidden_dim, num_heads, dropout=0.0):\n",
        "        \"\"\"\n",
        "        Inputs:\n",
        "            embed_dim - Dimensionality of input and attention feature vectors\n",
        "            hidden_dim - Dimensionality of hidden layer in feed-forward network\n",
        "                         (usually 2-4x larger than embed_dim)\n",
        "            num_heads - Number of heads to use in the Multi-Head Attention block\n",
        "            dropout - Amount of dropout to apply in the feed-forward network\n",
        "        \"\"\"\n",
        "        super().__init__()\n",
        "\n",
        "        self.layer_norm_1 = nn.LayerNorm(embed_dim)\n",
        "        self.attn = nn.MultiheadAttention(embed_dim, num_heads)\n",
        "        self.layer_norm_2 = nn.LayerNorm(embed_dim)\n",
        "        self.linear = nn.Sequential(\n",
        "            nn.Linear(embed_dim, hidden_dim),\n",
        "            nn.GELU(),\n",
        "            nn.Dropout(dropout),\n",
        "            nn.Linear(hidden_dim, embed_dim),\n",
        "            nn.Dropout(dropout),\n",
        "        )\n",
        "\n",
        "    def forward(self, x):\n",
        "        inp_x = self.layer_norm_1(x)\n",
        "        x = x + self.attn(inp_x, inp_x, inp_x)[0]\n",
        "        x = x + self.linear(self.layer_norm_2(x))\n",
        "        return x"
      ]
    },
    {
      "cell_type": "code",
      "execution_count": 48,
      "metadata": {
        "id": "gpigPzyxTckX"
      },
      "outputs": [],
      "source": [
        "class VisionTransformer(nn.Module):\n",
        "    def __init__(\n",
        "        self,\n",
        "        embed_dim,\n",
        "        hidden_dim,\n",
        "        num_channels,\n",
        "        num_heads,\n",
        "        num_layers,\n",
        "        num_classes,\n",
        "        patch_size,\n",
        "        num_patches,\n",
        "        dropout=0.0,\n",
        "    ):\n",
        "        \"\"\"\n",
        "        Inputs:\n",
        "            embed_dim - Dimensionality of the input feature vectors to the Transformer\n",
        "            hidden_dim - Dimensionality of the hidden layer in the feed-forward networks\n",
        "                         within the Transformer\n",
        "            num_channels - Number of channels of the input (3 for RGB or 1 for grayscale)\n",
        "            num_heads - Number of heads to use in the Multi-Head Attention block\n",
        "            num_layers - Number of layers to use in the Transformer\n",
        "            num_classes - Number of classes to predict\n",
        "            patch_size - Number of pixels that the patches have per dimension\n",
        "            num_patches - Maximum number of patches an image can have\n",
        "            dropout - Amount of dropout to apply in the feed-forward network and\n",
        "                      on the input encoding\n",
        "        \"\"\"\n",
        "        super().__init__()\n",
        "\n",
        "        self.patch_size = patch_size\n",
        "\n",
        "        # Layers/Networks\n",
        "        self.input_layer = nn.Linear(num_channels * (patch_size**2), embed_dim)\n",
        "        self.transformer = nn.Sequential(\n",
        "            *(AttentionBlock(embed_dim, hidden_dim, num_heads, dropout=dropout) for _ in range(num_layers))\n",
        "        )\n",
        "        self.mlp_head = nn.Sequential(nn.LayerNorm(embed_dim), nn.Linear(embed_dim, num_classes))\n",
        "        self.dropout = nn.Dropout(dropout)\n",
        "\n",
        "        # Parameters/Embeddings\n",
        "        self.cls_token = nn.Parameter(torch.randn(1, 1, embed_dim))\n",
        "        self.pos_embedding = nn.Parameter(torch.randn(1, 1 + num_patches, embed_dim))\n",
        "\n",
        "    def forward(self, x):\n",
        "        # Preprocess input\n",
        "        x = img_to_patch(x, self.patch_size)        # x.shape ---> batch, num_patches, (patch_size**2)\n",
        "        B, T, _ = x.shape\n",
        "        x = self.input_layer(x)                     # x.shape ---> batch, num_patches, embed_dim\n",
        "\n",
        "        # Add CLS token and positional encoding\n",
        "        cls_token = self.cls_token.repeat(B, 1, 1)\n",
        "        x = torch.cat([cls_token, x], dim=1)        # x.shape ---> batch, num_patches+1, embed_dim\n",
        "        x = x + self.pos_embedding[:, : T + 1]      # x.shape ---> batch, num_patches+1, embed_dim\n",
        "\n",
        "        # Apply Transformer\n",
        "        x = self.dropout(x)\n",
        "        x = x.transpose(0, 1)                       # x.shape ---> num_patches+1, batch, embed_dim\n",
        "        x = self.transformer(x)                     # x.shape ---> num_patches+1, batch, embed_dim\n",
        "\n",
        "        # Perform classification prediction\n",
        "        cls = x[0]\n",
        "        out = self.mlp_head(cls)\n",
        "        return out"
      ]
    },
    {
      "cell_type": "code",
      "execution_count": 49,
      "metadata": {
        "id": "mfSQOlMEv3HH"
      },
      "outputs": [],
      "source": [
        "model = VisionTransformer(embed_dim=embed_dim,\n",
        "                          hidden_dim=hidden_dim,\n",
        "                          num_heads=num_heads,\n",
        "                          num_layers=num_layers,\n",
        "                          patch_size=patch_size,\n",
        "                          num_channels=num_channels,\n",
        "                          num_patches=num_patches,\n",
        "                          num_classes=num_classes,\n",
        "                          dropout=dropout)\n",
        "\n",
        "# Transfer to GPU\n",
        "model.to(device)\n",
        "model_restore = None #'/content/model_20230712_211204_0'\n",
        "if model_restore is not None and os.path.exists(model_restore):\n",
        "  model.load_state_dict(torch.load(model_restore))\n",
        "  model.restored = True"
      ]
    },
    {
      "cell_type": "code",
      "execution_count": 12,
      "metadata": {
        "colab": {
          "base_uri": "https://localhost:8080/"
        },
        "id": "pgOl_8IUJMSb",
        "outputId": "0038a174-0991-4cf0-b8e3-01dee599b4b8"
      },
      "outputs": [
        {
          "data": {
            "text/plain": [
              "VisionTransformer(\n",
              "  (input_layer): Linear(in_features=49, out_features=255, bias=True)\n",
              "  (transformer): Sequential(\n",
              "    (0): AttentionBlock(\n",
              "      (layer_norm_1): LayerNorm((255,), eps=1e-05, elementwise_affine=True)\n",
              "      (attn): MultiheadAttention(\n",
              "        (out_proj): NonDynamicallyQuantizableLinear(in_features=255, out_features=255, bias=True)\n",
              "      )\n",
              "      (layer_norm_2): LayerNorm((255,), eps=1e-05, elementwise_affine=True)\n",
              "      (linear): Sequential(\n",
              "        (0): Linear(in_features=255, out_features=765, bias=True)\n",
              "        (1): GELU(approximate='none')\n",
              "        (2): Dropout(p=0.2, inplace=False)\n",
              "        (3): Linear(in_features=765, out_features=255, bias=True)\n",
              "        (4): Dropout(p=0.2, inplace=False)\n",
              "      )\n",
              "    )\n",
              "    (1): AttentionBlock(\n",
              "      (layer_norm_1): LayerNorm((255,), eps=1e-05, elementwise_affine=True)\n",
              "      (attn): MultiheadAttention(\n",
              "        (out_proj): NonDynamicallyQuantizableLinear(in_features=255, out_features=255, bias=True)\n",
              "      )\n",
              "      (layer_norm_2): LayerNorm((255,), eps=1e-05, elementwise_affine=True)\n",
              "      (linear): Sequential(\n",
              "        (0): Linear(in_features=255, out_features=765, bias=True)\n",
              "        (1): GELU(approximate='none')\n",
              "        (2): Dropout(p=0.2, inplace=False)\n",
              "        (3): Linear(in_features=765, out_features=255, bias=True)\n",
              "        (4): Dropout(p=0.2, inplace=False)\n",
              "      )\n",
              "    )\n",
              "    (2): AttentionBlock(\n",
              "      (layer_norm_1): LayerNorm((255,), eps=1e-05, elementwise_affine=True)\n",
              "      (attn): MultiheadAttention(\n",
              "        (out_proj): NonDynamicallyQuantizableLinear(in_features=255, out_features=255, bias=True)\n",
              "      )\n",
              "      (layer_norm_2): LayerNorm((255,), eps=1e-05, elementwise_affine=True)\n",
              "      (linear): Sequential(\n",
              "        (0): Linear(in_features=255, out_features=765, bias=True)\n",
              "        (1): GELU(approximate='none')\n",
              "        (2): Dropout(p=0.2, inplace=False)\n",
              "        (3): Linear(in_features=765, out_features=255, bias=True)\n",
              "        (4): Dropout(p=0.2, inplace=False)\n",
              "      )\n",
              "    )\n",
              "    (3): AttentionBlock(\n",
              "      (layer_norm_1): LayerNorm((255,), eps=1e-05, elementwise_affine=True)\n",
              "      (attn): MultiheadAttention(\n",
              "        (out_proj): NonDynamicallyQuantizableLinear(in_features=255, out_features=255, bias=True)\n",
              "      )\n",
              "      (layer_norm_2): LayerNorm((255,), eps=1e-05, elementwise_affine=True)\n",
              "      (linear): Sequential(\n",
              "        (0): Linear(in_features=255, out_features=765, bias=True)\n",
              "        (1): GELU(approximate='none')\n",
              "        (2): Dropout(p=0.2, inplace=False)\n",
              "        (3): Linear(in_features=765, out_features=255, bias=True)\n",
              "        (4): Dropout(p=0.2, inplace=False)\n",
              "      )\n",
              "    )\n",
              "    (4): AttentionBlock(\n",
              "      (layer_norm_1): LayerNorm((255,), eps=1e-05, elementwise_affine=True)\n",
              "      (attn): MultiheadAttention(\n",
              "        (out_proj): NonDynamicallyQuantizableLinear(in_features=255, out_features=255, bias=True)\n",
              "      )\n",
              "      (layer_norm_2): LayerNorm((255,), eps=1e-05, elementwise_affine=True)\n",
              "      (linear): Sequential(\n",
              "        (0): Linear(in_features=255, out_features=765, bias=True)\n",
              "        (1): GELU(approximate='none')\n",
              "        (2): Dropout(p=0.2, inplace=False)\n",
              "        (3): Linear(in_features=765, out_features=255, bias=True)\n",
              "        (4): Dropout(p=0.2, inplace=False)\n",
              "      )\n",
              "    )\n",
              "    (5): AttentionBlock(\n",
              "      (layer_norm_1): LayerNorm((255,), eps=1e-05, elementwise_affine=True)\n",
              "      (attn): MultiheadAttention(\n",
              "        (out_proj): NonDynamicallyQuantizableLinear(in_features=255, out_features=255, bias=True)\n",
              "      )\n",
              "      (layer_norm_2): LayerNorm((255,), eps=1e-05, elementwise_affine=True)\n",
              "      (linear): Sequential(\n",
              "        (0): Linear(in_features=255, out_features=765, bias=True)\n",
              "        (1): GELU(approximate='none')\n",
              "        (2): Dropout(p=0.2, inplace=False)\n",
              "        (3): Linear(in_features=765, out_features=255, bias=True)\n",
              "        (4): Dropout(p=0.2, inplace=False)\n",
              "      )\n",
              "    )\n",
              "  )\n",
              "  (mlp_head): Sequential(\n",
              "    (0): LayerNorm((255,), eps=1e-05, elementwise_affine=True)\n",
              "    (1): Linear(in_features=255, out_features=10, bias=True)\n",
              "  )\n",
              "  (dropout): Dropout(p=0.2, inplace=False)\n",
              ")"
            ]
          },
          "execution_count": 12,
          "metadata": {},
          "output_type": "execute_result"
        }
      ],
      "source": [
        "model"
      ]
    },
    {
      "cell_type": "code",
      "execution_count": 50,
      "metadata": {
        "colab": {
          "base_uri": "https://localhost:8080/",
          "height": 67,
          "referenced_widgets": [
            "ba8541a9985a48e7b60ab6f5e0a30cf3",
            "8595b01d0ad84e9b8ad93a60f618cd5a",
            "f00bb1ca1ca64c5f968f9f234bce5216",
            "489160b4c48841fba467bfc6304f03d5",
            "dbca0619270544bda2b6b8c3a8662299",
            "2e193a0796204c049d08ba30e49f8428",
            "306afb37abfa4404841bbe3a266079ec",
            "25502459f83046cea44a7c1c5df314d3",
            "2736bbd9c8934c06ad4e144c0bf04ffc",
            "12ced6accefc466fa54219bf093cfe73",
            "99fb0cabfc6a4a598e8b916d01458d60"
          ]
        },
        "id": "VDIynUA7JJH5",
        "outputId": "3a2e76b8-067d-44d7-8e7f-2b16652530f0"
      },
      "outputs": [
        {
          "data": {
            "application/vnd.jupyter.widget-view+json": {
              "model_id": "5711c62ac0f340b6a8efe29e42534721",
              "version_major": 2,
              "version_minor": 0
            },
            "text/plain": [
              "epoch 0:   0%|          | 0/1563 [00:00<?, ?it/s]"
            ]
          },
          "metadata": {},
          "output_type": "display_data"
        },
        {
          "name": "stdout",
          "output_type": "stream",
          "text": [
            "LOSS train 0.6795 valid 0.6251\n"
          ]
        },
        {
          "ename": "RuntimeError",
          "evalue": "File /model_VisionTransformer_MNIST_1.pt cannot be opened.",
          "output_type": "error",
          "traceback": [
            "\u001b[0;31m---------------------------------------------------------------------------\u001b[0m",
            "\u001b[0;31mRuntimeError\u001b[0m                              Traceback (most recent call last)",
            "\u001b[1;32m/Users/albertopiccinin/Downloads/aug_multi_head_complex_model.ipynb Cella 13\u001b[0m line \u001b[0;36m5\n\u001b[1;32m     <a href='vscode-notebook-cell:/Users/albertopiccinin/Downloads/aug_multi_head_complex_model.ipynb#X15sZmlsZQ%3D%3D?line=51'>52</a>\u001b[0m best_vloss \u001b[39m=\u001b[39m avg_vloss\n\u001b[1;32m     <a href='vscode-notebook-cell:/Users/albertopiccinin/Downloads/aug_multi_head_complex_model.ipynb#X15sZmlsZQ%3D%3D?line=52'>53</a>\u001b[0m model_path \u001b[39m=\u001b[39m \u001b[39m'\u001b[39m\u001b[39m/model_VisionTransformer_MNIST_\u001b[39m\u001b[39m{}\u001b[39;00m\u001b[39m.pt\u001b[39m\u001b[39m'\u001b[39m\u001b[39m.\u001b[39mformat(epoch\u001b[39m+\u001b[39m\u001b[39m1\u001b[39m)\n\u001b[0;32m---> <a href='vscode-notebook-cell:/Users/albertopiccinin/Downloads/aug_multi_head_complex_model.ipynb#X15sZmlsZQ%3D%3D?line=53'>54</a>\u001b[0m torch\u001b[39m.\u001b[39;49msave(model\u001b[39m.\u001b[39;49mstate_dict(), model_path)\n",
            "File \u001b[0;32m/opt/homebrew/lib/python3.11/site-packages/torch/serialization.py:651\u001b[0m, in \u001b[0;36msave\u001b[0;34m(obj, f, pickle_module, pickle_protocol, _use_new_zipfile_serialization, _disable_byteorder_record)\u001b[0m\n\u001b[1;32m    648\u001b[0m _check_save_filelike(f)\n\u001b[1;32m    650\u001b[0m \u001b[39mif\u001b[39;00m _use_new_zipfile_serialization:\n\u001b[0;32m--> 651\u001b[0m     \u001b[39mwith\u001b[39;00m _open_zipfile_writer(f) \u001b[39mas\u001b[39;00m opened_zipfile:\n\u001b[1;32m    652\u001b[0m         _save(obj, opened_zipfile, pickle_module, pickle_protocol, _disable_byteorder_record)\n\u001b[1;32m    653\u001b[0m         \u001b[39mreturn\u001b[39;00m\n",
            "File \u001b[0;32m/opt/homebrew/lib/python3.11/site-packages/torch/serialization.py:525\u001b[0m, in \u001b[0;36m_open_zipfile_writer\u001b[0;34m(name_or_buffer)\u001b[0m\n\u001b[1;32m    523\u001b[0m \u001b[39melse\u001b[39;00m:\n\u001b[1;32m    524\u001b[0m     container \u001b[39m=\u001b[39m _open_zipfile_writer_buffer\n\u001b[0;32m--> 525\u001b[0m \u001b[39mreturn\u001b[39;00m container(name_or_buffer)\n",
            "File \u001b[0;32m/opt/homebrew/lib/python3.11/site-packages/torch/serialization.py:496\u001b[0m, in \u001b[0;36m_open_zipfile_writer_file.__init__\u001b[0;34m(self, name)\u001b[0m\n\u001b[1;32m    494\u001b[0m     \u001b[39msuper\u001b[39m()\u001b[39m.\u001b[39m\u001b[39m__init__\u001b[39m(torch\u001b[39m.\u001b[39m_C\u001b[39m.\u001b[39mPyTorchFileWriter(\u001b[39mself\u001b[39m\u001b[39m.\u001b[39mfile_stream))\n\u001b[1;32m    495\u001b[0m \u001b[39melse\u001b[39;00m:\n\u001b[0;32m--> 496\u001b[0m     \u001b[39msuper\u001b[39m()\u001b[39m.\u001b[39m\u001b[39m__init__\u001b[39m(torch\u001b[39m.\u001b[39;49m_C\u001b[39m.\u001b[39;49mPyTorchFileWriter(\u001b[39mself\u001b[39;49m\u001b[39m.\u001b[39;49mname))\n",
            "\u001b[0;31mRuntimeError\u001b[0m: File /model_VisionTransformer_MNIST_1.pt cannot be opened."
          ]
        }
      ],
      "source": [
        "# setup the loss function\n",
        "loss_fn = torch.nn.CrossEntropyLoss()\n",
        "# setup the optimizer with the learning rate\n",
        "model_optimizer = optim.Adam(model.parameters(), lr=3e-4)\n",
        "\n",
        "# set an empty list to plot the loss later\n",
        "lossi = []\n",
        "# set an initial high value for the validation loss\n",
        "best_vloss = 1_000_000\n",
        "# set the timestamp to save the training model\n",
        "timestamp = datetime.now().strftime('%Y%m%d_%H:%M:%S')\n",
        "# Training loop\n",
        "for epoch in range(1):\n",
        "  for imgs, labels in tqdm_notebook(train_loader, desc='epoch '+str(epoch)):\n",
        "    # Make sure gradient tracking is on, and do a pass over the data\n",
        "    model.train(True)\n",
        "    # Transfer to GPU\n",
        "    imgs, labels = imgs.to(device), labels.to(device)\n",
        "    # zero the parameter gradients\n",
        "    model_optimizer.zero_grad()\n",
        "    # Make predictions for this batch\n",
        "    preds = model(imgs)\n",
        "    # Compute the loss and its gradients\n",
        "    loss = loss_fn(preds, labels)\n",
        "    # append this loss to the list for later plotting\n",
        "    lossi.append(loss.item())\n",
        "    # backpropagate the loss\n",
        "    loss.backward()\n",
        "    # adjust parameters based on the calculated gradients\n",
        "    model_optimizer.step()\n",
        "\n",
        "  # step the scheduler for the learning rate decay\n",
        "  running_vloss = 0.0\n",
        "  # Set the model to evaluation mode, disabling dropout and using population\n",
        "  # statistics for batch normalization.\n",
        "  model.eval()\n",
        "\n",
        "  # Disable gradient computation and reduce memory consumption.\n",
        "  with torch.no_grad():\n",
        "      for i, vdata in enumerate(val_loader):\n",
        "          vinputs, vlabels = vdata\n",
        "          vinputs, vlabels = vinputs.to(device), vlabels.to(device)\n",
        "          voutputs = model(vinputs)\n",
        "          vloss = loss_fn(voutputs, vlabels)\n",
        "          running_vloss += vloss\n",
        "\n",
        "  avg_vloss = running_vloss / (i + 1)\n",
        "  print('LOSS train {:.4f} valid {:.4f}'.format(loss.item(), avg_vloss.item()))\n",
        "\n",
        "  # Track best performance, and save the model's state\n",
        "  if avg_vloss < best_vloss:\n",
        "      best_vloss = avg_vloss\n",
        "      model_path = '/model_VisionTransformer_MNIST_{}.pt'.format(epoch+1)\n",
        "      torch.save(model.state_dict(), model_path)"
      ]
    },
    {
      "cell_type": "code",
      "execution_count": 51,
      "metadata": {
        "colab": {
          "base_uri": "https://localhost:8080/",
          "height": 470
        },
        "id": "6Hs7V5my22JW",
        "outputId": "139694a1-7b96-43b1-97a2-a8f465546e88"
      },
      "outputs": [
        {
          "data": {
            "text/plain": [
              "Text(0.5, 1.0, 'Training loss')"
            ]
          },
          "execution_count": 51,
          "metadata": {},
          "output_type": "execute_result"
        },
        {
          "data": {
            "image/png": "[encoded data removed]",
            "text/plain": [
              "<Figure size 640x480 with 1 Axes>"
            ]
          },
          "metadata": {},
          "output_type": "display_data"
        }
      ],
      "source": [
        "# plot the training loss by averaging every 3 steps\n",
        "fig = plt.figure()\n",
        "ax = fig.add_subplot(111)\n",
        "plt.plot(torch.tensor(lossi).view(-1, 3).mean(1))\n",
        "plt.title('Training loss')"
      ]
    },
    {
      "cell_type": "code",
      "execution_count": 52,
      "metadata": {
        "colab": {
          "base_uri": "https://localhost:8080/",
          "height": 67,
          "referenced_widgets": [
            "f900daf8e4d6491b83f29a6a556991c5",
            "2a72a8d77a34454f9538681dce5681c6",
            "e22c393e673547caa1cbefd6b5a4eef3",
            "abb506e43022408ebfe410cc7ac5772f",
            "3b2b869ddd7a41fc936b25b8b61e8d7e",
            "6e9f0fd145bc45a596f13326d37aaa11",
            "584f5416542840b7836b92d3fa6f7c55",
            "3543a8db52e441879c617e16ba281bce",
            "3b9b069c428444eab92bcd062db4cd46",
            "2c263f44ae61433ab1783d461b6d4664",
            "70836d2ec87f40b3bc31da2b6dd2df08"
          ]
        },
        "id": "WJtiupFXAld1",
        "outputId": "556cadc7-5f31-43b8-a601-3d439c77ae02"
      },
      "outputs": [
        {
          "data": {
            "application/vnd.jupyter.widget-view+json": {
              "model_id": "ba209acafa394a17994d4fa8cd5e7120",
              "version_major": 2,
              "version_minor": 0
            },
            "text/plain": [
              "  0%|          | 0/313 [00:00<?, ?it/s]"
            ]
          },
          "metadata": {},
          "output_type": "display_data"
        },
        {
          "name": "stdout",
          "output_type": "stream",
          "text": [
            "Accuracy on test set = 0.7543\n"
          ]
        }
      ],
      "source": [
        "model.eval() # Set the model to evaluation mode (dropout disabled)\n",
        "\n",
        "# evaluate network\n",
        "acc_total = 0\n",
        "with torch.no_grad():\n",
        "  for imgs, labels in tqdm_notebook(test_loader):\n",
        "\n",
        "    imgs, labels = imgs.to(device), labels.to(device)\n",
        "    preds = model(imgs)\n",
        "    pred_cls = preds.data.max(1)[1]\n",
        "    acc_total += pred_cls.eq(labels.data).cpu().sum()\n",
        "\n",
        "acc = acc_total.item()/len(test_loader.dataset)\n",
        "print('Accuracy on test set = '+str(acc))\n"
      ]
    },
    {
      "cell_type": "code",
      "execution_count": 117,
      "metadata": {},
      "outputs": [
        {
          "name": "stdout",
          "output_type": "stream",
          "text": [
            "Image tensor shape:  torch.Size([28, 28])\n",
            "Input tensor to Transformer:  torch.Size([1, 17, 255])\n",
            "transformer_input_expanded shape:  torch.Size([17, 765])\n",
            "qkv shape:  torch.Size([3, 3, 17, 85])\n",
            "q shape:  torch.Size([3, 17, 85])\n",
            "k shape:  torch.Size([3, 17, 85])\n",
            "attention matrices shape:  torch.Size([3, 17, 17])\n",
            "attention_matrices_mean shape:  torch.Size([3, 17])\n"
          ]
        },
        {
          "data": {
            "image/png": "[encoded data removed]",
            "text/plain": [
              "<Figure size 1600x600 with 4 Axes>"
            ]
          },
          "metadata": {},
          "output_type": "display_data"
        }
      ],
      "source": [
        "# Estrazione dell'indice del campione di test e preparazione dell'immagine\n",
        "test_sample_index = (test_set.targets == 7).nonzero(as_tuple=True)[0][12].item()\n",
        "# Estrazione di un campione di test\n",
        "img_tensor = test_set[test_sample_index][0].squeeze().to(device)\n",
        "print (\"Image tensor shape: \", img_tensor.shape)\n",
        "# Conversione dell'immagine in patch\n",
        "patches = img_to_patch(img_tensor.unsqueeze(0).unsqueeze(0), patch_size=patch_size)\n",
        "# Passaggio delle patch attraverso lo strato di input per ottenere un tensore di dimensione embed_dim\n",
        "patches = model.input_layer(patches.float())\n",
        "# Aggiunta del token di classe e embedding posizionale\n",
        "transformer_input = torch.cat((model.cls_token, patches), dim=1) + model.pos_embedding\n",
        "print(\"Input tensor to Transformer: \", transformer_input.shape)\n",
        "\n",
        "# Passaggio dell'immagine attraverso il primo blocco di attenzione\n",
        "transformer_input_expanded = model.transformer[0].linear[0](transformer_input).squeeze(0)\n",
        "print(\"transformer_input_expanded shape: \", transformer_input_expanded.shape)\n",
        "\n",
        "# Reshape del risultato della prima attenzione# Reshape del risultato della prima attenzione\n",
        "qkv = transformer_input_expanded.reshape(num_patches + 1, 3, -1, num_heads).permute(1, 3, 0, 2)\n",
        "# Dim: (3, num_heads, num_patches + 1, embedding_size // num_heads)\n",
        "print(\"qkv shape: \", qkv.shape)\n",
        "\n",
        "# Estrazione delle matrici di query e key per tutte le attention heads\n",
        "q = qkv[0]  # Query matrix (num_heads, num_patches + 1, embedding_size // num_heads)\n",
        "k = qkv[1]  # Key matrix (num_heads, num_patches + 1, embedding_size // num_heads)\n",
        "print(\"q shape: \", q.shape)\n",
        "print(\"k shape: \", k.shape)\n",
        "\n",
        "# Moltiplicazione di q e k^T per ottenere le matrici di attenzione per ciascuna head\n",
        "kT = k.transpose(-2, -1)  # Trasposizione per fare la moltiplicazione corretta\n",
        "attention_matrices = torch.matmul(q, kT)  # Dim: (num_heads, num_patches + 1, num_patches + 1)\n",
        "print(\"attention matrices shape: \", attention_matrices.shape)\n",
        "\n",
        "# Normalizzazione delle matrici di attenzione per tutte le heads\n",
        "attention_matrices_mean = torch.mean(attention_matrices, dim=-1)\n",
        "print(\"attention_matrices_mean shape: \", attention_matrices_mean.shape)\n",
        "\n",
        "# Aggiunta delle connessioni residue e normalizzazione\n",
        "residual_att = torch.eye(attention_matrices.size(-1)).to(device)\n",
        "aug_att_mats = attention_matrices + residual_att\n",
        "aug_att_mats = aug_att_mats / aug_att_mats.sum(dim=-1).unsqueeze(-1)\n",
        "\n",
        "# Visualizzazione delle heatmap per ciascuna head\n",
        "fig, axes = plt.subplots(1, 4, figsize=(16, 6))\n",
        "img = np.asarray(img_tensor.cpu())\n",
        "axes[0].imshow(img, cmap='gray')\n",
        "axes[0].set_title('MNIST test sample')\n",
        "axes[0].tick_params(axis='both', which='both', bottom=False, top=False, left=False, right=False,\n",
        "                    labelbottom=False, labeltop=False, labelleft=False, labelright=False)\n",
        "\n",
        "# Visualizzazione delle heatmap per ogni head\n",
        "for i in range(3):  # Le prime 3 heads\n",
        "    attn_heatmap = aug_att_mats[i, 0, 1:].reshape((int(image_size/patch_size), int(image_size/patch_size)))\n",
        "    attn_heatmap_resized = F.interpolate(attn_heatmap.unsqueeze(0).unsqueeze(0), [image_size, image_size], mode='bilinear').view(28, 28, 1)\n",
        "    axes[i + 1].imshow(attn_heatmap_resized.detach().cpu().numpy())\n",
        "    axes[i + 1].set_title(f'Attention head {i + 1}')\n",
        "    axes[i + 1].tick_params(axis='both', which='both', bottom=False, top=False, left=False, right=False,\n",
        "                            labelbottom=False, labeltop=False, labelleft=False, labelright=False)\n",
        "\n",
        "plt.show()\n"
      ]
    }
  ],
  "metadata": {
    "accelerator": "GPU",
    "colab": {
      "gpuType": "T4",
      "provenance": []
    },
    "kernelspec": {
      "display_name": "Python 3",
      "name": "python3"
    },
    "language_info": {
      "codemirror_mode": {
        "name": "ipython",
        "version": 3
      },
      "file_extension": ".py",
      "mimetype": "text/x-python",
      "name": "python",
      "nbconvert_exporter": "python",
      "pygments_lexer": "ipython3",
      "version": "3.11.3"
    },
    "widgets": {
      "application/vnd.jupyter.widget-state+json": {
        "12ced6accefc466fa54219bf093cfe73": {
          "model_module": "@jupyter-widgets/base",
          "model_module_version": "1.2.0",
          "model_name": "LayoutModel",
          "state": {
            "_model_module": "@jupyter-widgets/base",
            "_model_module_version": "1.2.0",
            "_model_name": "LayoutModel",
            "_view_count": null,
            "_view_module": "@jupyter-widgets/base",
            "_view_module_version": "1.2.0",
            "_view_name": "LayoutView",
            "align_content": null,
            "align_items": null,
            "align_self": null,
            "border": null,
            "bottom": null,
            "display": null,
            "flex": null,
            "flex_flow": null,
            "grid_area": null,
            "grid_auto_columns": null,
            "grid_auto_flow": null,
            "grid_auto_rows": null,
            "grid_column": null,
            "grid_gap": null,
            "grid_row": null,
            "grid_template_areas": null,
            "grid_template_columns": null,
            "grid_template_rows": null,
            "height": null,
            "justify_content": null,
            "justify_items": null,
            "left": null,
            "margin": null,
            "max_height": null,
            "max_width": null,
            "min_height": null,
            "min_width": null,
            "object_fit": null,
            "object_position": null,
            "order": null,
            "overflow": null,
            "overflow_x": null,
            "overflow_y": null,
            "padding": null,
            "right": null,
            "top": null,
            "visibility": null,
            "width": null
          }
        },
        "25502459f83046cea44a7c1c5df314d3": {
          "model_module": "@jupyter-widgets/base",
          "model_module_version": "1.2.0",
          "model_name": "LayoutModel",
          "state": {
            "_model_module": "@jupyter-widgets/base",
            "_model_module_version": "1.2.0",
            "_model_name": "LayoutModel",
            "_view_count": null,
            "_view_module": "@jupyter-widgets/base",
            "_view_module_version": "1.2.0",
            "_view_name": "LayoutView",
            "align_content": null,
            "align_items": null,
            "align_self": null,
            "border": null,
            "bottom": null,
            "display": null,
            "flex": null,
            "flex_flow": null,
            "grid_area": null,
            "grid_auto_columns": null,
            "grid_auto_flow": null,
            "grid_auto_rows": null,
            "grid_column": null,
            "grid_gap": null,
            "grid_row": null,
            "grid_template_areas": null,
            "grid_template_columns": null,
            "grid_template_rows": null,
            "height": null,
            "justify_content": null,
            "justify_items": null,
            "left": null,
            "margin": null,
            "max_height": null,
            "max_width": null,
            "min_height": null,
            "min_width": null,
            "object_fit": null,
            "object_position": null,
            "order": null,
            "overflow": null,
            "overflow_x": null,
            "overflow_y": null,
            "padding": null,
            "right": null,
            "top": null,
            "visibility": null,
            "width": null
          }
        },
        "2736bbd9c8934c06ad4e144c0bf04ffc": {
          "model_module": "@jupyter-widgets/controls",
          "model_module_version": "1.5.0",
          "model_name": "ProgressStyleModel",
          "state": {
            "_model_module": "@jupyter-widgets/controls",
            "_model_module_version": "1.5.0",
            "_model_name": "ProgressStyleModel",
            "_view_count": null,
            "_view_module": "@jupyter-widgets/base",
            "_view_module_version": "1.2.0",
            "_view_name": "StyleView",
            "bar_color": null,
            "description_width": ""
          }
        },
        "2a72a8d77a34454f9538681dce5681c6": {
          "model_module": "@jupyter-widgets/controls",
          "model_module_version": "1.5.0",
          "model_name": "HTMLModel",
          "state": {
            "_dom_classes": [],
            "_model_module": "@jupyter-widgets/controls",
            "_model_module_version": "1.5.0",
            "_model_name": "HTMLModel",
            "_view_count": null,
            "_view_module": "@jupyter-widgets/controls",
            "_view_module_version": "1.5.0",
            "_view_name": "HTMLView",
            "description": "",
            "description_tooltip": null,
            "layout": "IPY_MODEL_6e9f0fd145bc45a596f13326d37aaa11",
            "placeholder": "​",
            "style": "IPY_MODEL_584f5416542840b7836b92d3fa6f7c55",
            "value": "100%"
          }
        },
        "2c263f44ae61433ab1783d461b6d4664": {
          "model_module": "@jupyter-widgets/base",
          "model_module_version": "1.2.0",
          "model_name": "LayoutModel",
          "state": {
            "_model_module": "@jupyter-widgets/base",
            "_model_module_version": "1.2.0",
            "_model_name": "LayoutModel",
            "_view_count": null,
            "_view_module": "@jupyter-widgets/base",
            "_view_module_version": "1.2.0",
            "_view_name": "LayoutView",
            "align_content": null,
            "align_items": null,
            "align_self": null,
            "border": null,
            "bottom": null,
            "display": null,
            "flex": null,
            "flex_flow": null,
            "grid_area": null,
            "grid_auto_columns": null,
            "grid_auto_flow": null,
            "grid_auto_rows": null,
            "grid_column": null,
            "grid_gap": null,
            "grid_row": null,
            "grid_template_areas": null,
            "grid_template_columns": null,
            "grid_template_rows": null,
            "height": null,
            "justify_content": null,
            "justify_items": null,
            "left": null,
            "margin": null,
            "max_height": null,
            "max_width": null,
            "min_height": null,
            "min_width": null,
            "object_fit": null,
            "object_position": null,
            "order": null,
            "overflow": null,
            "overflow_x": null,
            "overflow_y": null,
            "padding": null,
            "right": null,
            "top": null,
            "visibility": null,
            "width": null
          }
        },
        "2e193a0796204c049d08ba30e49f8428": {
          "model_module": "@jupyter-widgets/base",
          "model_module_version": "1.2.0",
          "model_name": "LayoutModel",
          "state": {
            "_model_module": "@jupyter-widgets/base",
            "_model_module_version": "1.2.0",
            "_model_name": "LayoutModel",
            "_view_count": null,
            "_view_module": "@jupyter-widgets/base",
            "_view_module_version": "1.2.0",
            "_view_name": "LayoutView",
            "align_content": null,
            "align_items": null,
            "align_self": null,
            "border": null,
            "bottom": null,
            "display": null,
            "flex": null,
            "flex_flow": null,
            "grid_area": null,
            "grid_auto_columns": null,
            "grid_auto_flow": null,
            "grid_auto_rows": null,
            "grid_column": null,
            "grid_gap": null,
            "grid_row": null,
            "grid_template_areas": null,
            "grid_template_columns": null,
            "grid_template_rows": null,
            "height": null,
            "justify_content": null,
            "justify_items": null,
            "left": null,
            "margin": null,
            "max_height": null,
            "max_width": null,
            "min_height": null,
            "min_width": null,
            "object_fit": null,
            "object_position": null,
            "order": null,
            "overflow": null,
            "overflow_x": null,
            "overflow_y": null,
            "padding": null,
            "right": null,
            "top": null,
            "visibility": null,
            "width": null
          }
        },
        "306afb37abfa4404841bbe3a266079ec": {
          "model_module": "@jupyter-widgets/controls",
          "model_module_version": "1.5.0",
          "model_name": "DescriptionStyleModel",
          "state": {
            "_model_module": "@jupyter-widgets/controls",
            "_model_module_version": "1.5.0",
            "_model_name": "DescriptionStyleModel",
            "_view_count": null,
            "_view_module": "@jupyter-widgets/base",
            "_view_module_version": "1.2.0",
            "_view_name": "StyleView",
            "description_width": ""
          }
        },
        "3543a8db52e441879c617e16ba281bce": {
          "model_module": "@jupyter-widgets/base",
          "model_module_version": "1.2.0",
          "model_name": "LayoutModel",
          "state": {
            "_model_module": "@jupyter-widgets/base",
            "_model_module_version": "1.2.0",
            "_model_name": "LayoutModel",
            "_view_count": null,
            "_view_module": "@jupyter-widgets/base",
            "_view_module_version": "1.2.0",
            "_view_name": "LayoutView",
            "align_content": null,
            "align_items": null,
            "align_self": null,
            "border": null,
            "bottom": null,
            "display": null,
            "flex": null,
            "flex_flow": null,
            "grid_area": null,
            "grid_auto_columns": null,
            "grid_auto_flow": null,
            "grid_auto_rows": null,
            "grid_column": null,
            "grid_gap": null,
            "grid_row": null,
            "grid_template_areas": null,
            "grid_template_columns": null,
            "grid_template_rows": null,
            "height": null,
            "justify_content": null,
            "justify_items": null,
            "left": null,
            "margin": null,
            "max_height": null,
            "max_width": null,
            "min_height": null,
            "min_width": null,
            "object_fit": null,
            "object_position": null,
            "order": null,
            "overflow": null,
            "overflow_x": null,
            "overflow_y": null,
            "padding": null,
            "right": null,
            "top": null,
            "visibility": null,
            "width": null
          }
        },
        "3b2b869ddd7a41fc936b25b8b61e8d7e": {
          "model_module": "@jupyter-widgets/base",
          "model_module_version": "1.2.0",
          "model_name": "LayoutModel",
          "state": {
            "_model_module": "@jupyter-widgets/base",
            "_model_module_version": "1.2.0",
            "_model_name": "LayoutModel",
            "_view_count": null,
            "_view_module": "@jupyter-widgets/base",
            "_view_module_version": "1.2.0",
            "_view_name": "LayoutView",
            "align_content": null,
            "align_items": null,
            "align_self": null,
            "border": null,
            "bottom": null,
            "display": null,
            "flex": null,
            "flex_flow": null,
            "grid_area": null,
            "grid_auto_columns": null,
            "grid_auto_flow": null,
            "grid_auto_rows": null,
            "grid_column": null,
            "grid_gap": null,
            "grid_row": null,
            "grid_template_areas": null,
            "grid_template_columns": null,
            "grid_template_rows": null,
            "height": null,
            "justify_content": null,
            "justify_items": null,
            "left": null,
            "margin": null,
            "max_height": null,
            "max_width": null,
            "min_height": null,
            "min_width": null,
            "object_fit": null,
            "object_position": null,
            "order": null,
            "overflow": null,
            "overflow_x": null,
            "overflow_y": null,
            "padding": null,
            "right": null,
            "top": null,
            "visibility": null,
            "width": null
          }
        },
        "3b9b069c428444eab92bcd062db4cd46": {
          "model_module": "@jupyter-widgets/controls",
          "model_module_version": "1.5.0",
          "model_name": "ProgressStyleModel",
          "state": {
            "_model_module": "@jupyter-widgets/controls",
            "_model_module_version": "1.5.0",
            "_model_name": "ProgressStyleModel",
            "_view_count": null,
            "_view_module": "@jupyter-widgets/base",
            "_view_module_version": "1.2.0",
            "_view_name": "StyleView",
            "bar_color": null,
            "description_width": ""
          }
        },
        "489160b4c48841fba467bfc6304f03d5": {
          "model_module": "@jupyter-widgets/controls",
          "model_module_version": "1.5.0",
          "model_name": "HTMLModel",
          "state": {
            "_dom_classes": [],
            "_model_module": "@jupyter-widgets/controls",
            "_model_module_version": "1.5.0",
            "_model_name": "HTMLModel",
            "_view_count": null,
            "_view_module": "@jupyter-widgets/controls",
            "_view_module_version": "1.5.0",
            "_view_name": "HTMLView",
            "description": "",
            "description_tooltip": null,
            "layout": "IPY_MODEL_12ced6accefc466fa54219bf093cfe73",
            "placeholder": "​",
            "style": "IPY_MODEL_99fb0cabfc6a4a598e8b916d01458d60",
            "value": " 1563/1563 [00:58&lt;00:00, 33.76it/s]"
          }
        },
        "584f5416542840b7836b92d3fa6f7c55": {
          "model_module": "@jupyter-widgets/controls",
          "model_module_version": "1.5.0",
          "model_name": "DescriptionStyleModel",
          "state": {
            "_model_module": "@jupyter-widgets/controls",
            "_model_module_version": "1.5.0",
            "_model_name": "DescriptionStyleModel",
            "_view_count": null,
            "_view_module": "@jupyter-widgets/base",
            "_view_module_version": "1.2.0",
            "_view_name": "StyleView",
            "description_width": ""
          }
        },
        "6e9f0fd145bc45a596f13326d37aaa11": {
          "model_module": "@jupyter-widgets/base",
          "model_module_version": "1.2.0",
          "model_name": "LayoutModel",
          "state": {
            "_model_module": "@jupyter-widgets/base",
            "_model_module_version": "1.2.0",
            "_model_name": "LayoutModel",
            "_view_count": null,
            "_view_module": "@jupyter-widgets/base",
            "_view_module_version": "1.2.0",
            "_view_name": "LayoutView",
            "align_content": null,
            "align_items": null,
            "align_self": null,
            "border": null,
            "bottom": null,
            "display": null,
            "flex": null,
            "flex_flow": null,
            "grid_area": null,
            "grid_auto_columns": null,
            "grid_auto_flow": null,
            "grid_auto_rows": null,
            "grid_column": null,
            "grid_gap": null,
            "grid_row": null,
            "grid_template_areas": null,
            "grid_template_columns": null,
            "grid_template_rows": null,
            "height": null,
            "justify_content": null,
            "justify_items": null,
            "left": null,
            "margin": null,
            "max_height": null,
            "max_width": null,
            "min_height": null,
            "min_width": null,
            "object_fit": null,
            "object_position": null,
            "order": null,
            "overflow": null,
            "overflow_x": null,
            "overflow_y": null,
            "padding": null,
            "right": null,
            "top": null,
            "visibility": null,
            "width": null
          }
        },
        "70836d2ec87f40b3bc31da2b6dd2df08": {
          "model_module": "@jupyter-widgets/controls",
          "model_module_version": "1.5.0",
          "model_name": "DescriptionStyleModel",
          "state": {
            "_model_module": "@jupyter-widgets/controls",
            "_model_module_version": "1.5.0",
            "_model_name": "DescriptionStyleModel",
            "_view_count": null,
            "_view_module": "@jupyter-widgets/base",
            "_view_module_version": "1.2.0",
            "_view_name": "StyleView",
            "description_width": ""
          }
        },
        "8595b01d0ad84e9b8ad93a60f618cd5a": {
          "model_module": "@jupyter-widgets/controls",
          "model_module_version": "1.5.0",
          "model_name": "HTMLModel",
          "state": {
            "_dom_classes": [],
            "_model_module": "@jupyter-widgets/controls",
            "_model_module_version": "1.5.0",
            "_model_name": "HTMLModel",
            "_view_count": null,
            "_view_module": "@jupyter-widgets/controls",
            "_view_module_version": "1.5.0",
            "_view_name": "HTMLView",
            "description": "",
            "description_tooltip": null,
            "layout": "IPY_MODEL_2e193a0796204c049d08ba30e49f8428",
            "placeholder": "​",
            "style": "IPY_MODEL_306afb37abfa4404841bbe3a266079ec",
            "value": "epoch 0: 100%"
          }
        },
        "99fb0cabfc6a4a598e8b916d01458d60": {
          "model_module": "@jupyter-widgets/controls",
          "model_module_version": "1.5.0",
          "model_name": "DescriptionStyleModel",
          "state": {
            "_model_module": "@jupyter-widgets/controls",
            "_model_module_version": "1.5.0",
            "_model_name": "DescriptionStyleModel",
            "_view_count": null,
            "_view_module": "@jupyter-widgets/base",
            "_view_module_version": "1.2.0",
            "_view_name": "StyleView",
            "description_width": ""
          }
        },
        "abb506e43022408ebfe410cc7ac5772f": {
          "model_module": "@jupyter-widgets/controls",
          "model_module_version": "1.5.0",
          "model_name": "HTMLModel",
          "state": {
            "_dom_classes": [],
            "_model_module": "@jupyter-widgets/controls",
            "_model_module_version": "1.5.0",
            "_model_name": "HTMLModel",
            "_view_count": null,
            "_view_module": "@jupyter-widgets/controls",
            "_view_module_version": "1.5.0",
            "_view_name": "HTMLView",
            "description": "",
            "description_tooltip": null,
            "layout": "IPY_MODEL_2c263f44ae61433ab1783d461b6d4664",
            "placeholder": "​",
            "style": "IPY_MODEL_70836d2ec87f40b3bc31da2b6dd2df08",
            "value": " 313/313 [00:05&lt;00:00, 64.55it/s]"
          }
        },
        "ba8541a9985a48e7b60ab6f5e0a30cf3": {
          "model_module": "@jupyter-widgets/controls",
          "model_module_version": "1.5.0",
          "model_name": "HBoxModel",
          "state": {
            "_dom_classes": [],
            "_model_module": "@jupyter-widgets/controls",
            "_model_module_version": "1.5.0",
            "_model_name": "HBoxModel",
            "_view_count": null,
            "_view_module": "@jupyter-widgets/controls",
            "_view_module_version": "1.5.0",
            "_view_name": "HBoxView",
            "box_style": "",
            "children": [
              "IPY_MODEL_8595b01d0ad84e9b8ad93a60f618cd5a",
              "IPY_MODEL_f00bb1ca1ca64c5f968f9f234bce5216",
              "IPY_MODEL_489160b4c48841fba467bfc6304f03d5"
            ],
            "layout": "IPY_MODEL_dbca0619270544bda2b6b8c3a8662299"
          }
        },
        "dbca0619270544bda2b6b8c3a8662299": {
          "model_module": "@jupyter-widgets/base",
          "model_module_version": "1.2.0",
          "model_name": "LayoutModel",
          "state": {
            "_model_module": "@jupyter-widgets/base",
            "_model_module_version": "1.2.0",
            "_model_name": "LayoutModel",
            "_view_count": null,
            "_view_module": "@jupyter-widgets/base",
            "_view_module_version": "1.2.0",
            "_view_name": "LayoutView",
            "align_content": null,
            "align_items": null,
            "align_self": null,
            "border": null,
            "bottom": null,
            "display": null,
            "flex": null,
            "flex_flow": null,
            "grid_area": null,
            "grid_auto_columns": null,
            "grid_auto_flow": null,
            "grid_auto_rows": null,
            "grid_column": null,
            "grid_gap": null,
            "grid_row": null,
            "grid_template_areas": null,
            "grid_template_columns": null,
            "grid_template_rows": null,
            "height": null,
            "justify_content": null,
            "justify_items": null,
            "left": null,
            "margin": null,
            "max_height": null,
            "max_width": null,
            "min_height": null,
            "min_width": null,
            "object_fit": null,
            "object_position": null,
            "order": null,
            "overflow": null,
            "overflow_x": null,
            "overflow_y": null,
            "padding": null,
            "right": null,
            "top": null,
            "visibility": null,
            "width": null
          }
        },
        "e22c393e673547caa1cbefd6b5a4eef3": {
          "model_module": "@jupyter-widgets/controls",
          "model_module_version": "1.5.0",
          "model_name": "FloatProgressModel",
          "state": {
            "_dom_classes": [],
            "_model_module": "@jupyter-widgets/controls",
            "_model_module_version": "1.5.0",
            "_model_name": "FloatProgressModel",
            "_view_count": null,
            "_view_module": "@jupyter-widgets/controls",
            "_view_module_version": "1.5.0",
            "_view_name": "ProgressView",
            "bar_style": "success",
            "description": "",
            "description_tooltip": null,
            "layout": "IPY_MODEL_3543a8db52e441879c617e16ba281bce",
            "max": 313,
            "min": 0,
            "orientation": "horizontal",
            "style": "IPY_MODEL_3b9b069c428444eab92bcd062db4cd46",
            "value": 313
          }
        },
        "f00bb1ca1ca64c5f968f9f234bce5216": {
          "model_module": "@jupyter-widgets/controls",
          "model_module_version": "1.5.0",
          "model_name": "FloatProgressModel",
          "state": {
            "_dom_classes": [],
            "_model_module": "@jupyter-widgets/controls",
            "_model_module_version": "1.5.0",
            "_model_name": "FloatProgressModel",
            "_view_count": null,
            "_view_module": "@jupyter-widgets/controls",
            "_view_module_version": "1.5.0",
            "_view_name": "ProgressView",
            "bar_style": "success",
            "description": "",
            "description_tooltip": null,
            "layout": "IPY_MODEL_25502459f83046cea44a7c1c5df314d3",
            "max": 1563,
            "min": 0,
            "orientation": "horizontal",
            "style": "IPY_MODEL_2736bbd9c8934c06ad4e144c0bf04ffc",
            "value": 1563
          }
        },
        "f900daf8e4d6491b83f29a6a556991c5": {
          "model_module": "@jupyter-widgets/controls",
          "model_module_version": "1.5.0",
          "model_name": "HBoxModel",
          "state": {
            "_dom_classes": [],
            "_model_module": "@jupyter-widgets/controls",
            "_model_module_version": "1.5.0",
            "_model_name": "HBoxModel",
            "_view_count": null,
            "_view_module": "@jupyter-widgets/controls",
            "_view_module_version": "1.5.0",
            "_view_name": "HBoxView",
            "box_style": "",
            "children": [
              "IPY_MODEL_2a72a8d77a34454f9538681dce5681c6",
              "IPY_MODEL_e22c393e673547caa1cbefd6b5a4eef3",
              "IPY_MODEL_abb506e43022408ebfe410cc7ac5772f"
            ],
            "layout": "IPY_MODEL_3b2b869ddd7a41fc936b25b8b61e8d7e"
          }
        }
      }
    }
  },
  "nbformat": 4,
  "nbformat_minor": 0
}
