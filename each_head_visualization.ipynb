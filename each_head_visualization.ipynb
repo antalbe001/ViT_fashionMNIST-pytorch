{
  "cells": [
    {
      "cell_type": "markdown",
      "metadata": {
        "id": "WG-N2wQhVUfH"
      },
      "source": [
        "## Import libraries"
      ]
    },
    {
      "cell_type": "code",
      "execution_count": 1,
      "metadata": {
        "id": "vjDtScPCJu47"
      },
      "outputs": [],
      "source": [
        "import os\n",
        "import random\n",
        "import torch\n",
        "import torch.nn as nn\n",
        "import torch.nn.functional as F\n",
        "import torch.optim as optim\n",
        "import torch.utils.data as data\n",
        "import torchvision\n",
        "import numpy as np\n",
        "import matplotlib.pyplot as plt\n",
        "from datetime import datetime\n",
        "from tqdm.notebook import tqdm_notebook\n",
        "from My_ViT import VisionTransformer, img_to_patch"
      ]
    },
    {
      "cell_type": "code",
      "execution_count": 2,
      "metadata": {
        "colab": {
          "base_uri": "https://localhost:8080/"
        },
        "id": "jS20dTmWWLss",
        "outputId": "8b3239ee-7dfd-430c-9ad3-0dcc9aacf12f"
      },
      "outputs": [
        {
          "name": "stdout",
          "output_type": "stream",
          "text": [
            "Device: mps\n"
          ]
        },
        {
          "name": "stderr",
          "output_type": "stream",
          "text": [
            "/var/folders/4t/vzt8rmpj2bzg8tyypgszxpqc0000gp/T/ipykernel_49202/1183298594.py:1: FutureWarning: You are using `torch.load` with `weights_only=False` (the current default value), which uses the default pickle module implicitly. It is possible to construct malicious pickle data which will execute arbitrary code during unpickling (See https://github.com/pytorch/pytorch/blob/main/SECURITY.md#untrusted-models for more details). In a future release, the default value for `weights_only` will be flipped to `True`. This limits the functions that could be executed during unpickling. Arbitrary objects will no longer be allowed to be loaded via this mode unless they are explicitly allowlisted by the user via `torch.serialization.add_safe_globals`. We recommend you start setting `weights_only=True` for any use case where you don't have full control of the loaded file. Please open an issue on GitHub for any issues related to this experimental feature.\n",
            "  model = torch.load('./saved_model.pth')\n"
          ]
        }
      ],
      "source": [
        "model = torch.load('./saved_model.pth')\n",
        "device = torch.device(\"mps\" if torch.backends.mps.is_available() else \"cpu\")\n",
        "model = model.to(device)\n",
        "print(\"Device:\", device)\n",
        "random.seed(42)\n",
        "g = torch.Generator().manual_seed(2147483647) # for reproducibility\n",
        "# Ensure that all operations are deterministic on GPU (if used) for reproducibility\n",
        "torch.backends.cudnn.deterministic = True\n",
        "torch.backends.cudnn.benchmark = False"
      ]
    },
    {
      "cell_type": "code",
      "execution_count": 3,
      "metadata": {
        "id": "KFBKdZyaVBce"
      },
      "outputs": [],
      "source": [
        "image_size = 28\n",
        "embed_dim=255\n",
        "hidden_dim=embed_dim*3\n",
        "num_heads=3\n",
        "num_layers=6\n",
        "patch_size=7\n",
        "num_patches=16\n",
        "num_channels=1\n",
        "num_classes=10\n",
        "dropout=0.2"
      ]
    },
    {
      "cell_type": "markdown",
      "metadata": {
        "id": "clIxG3FpVNLr"
      },
      "source": [
        "## Downloading FashionMNIST from torchvision"
      ]
    },
    {
      "cell_type": "code",
      "execution_count": 4,
      "metadata": {
        "colab": {
          "base_uri": "https://localhost:8080/"
        },
        "id": "EfPaYgQ1Mj_7",
        "outputId": "274f2059-d85f-476d-b646-62ead6efd7d5"
      },
      "outputs": [],
      "source": [
        "# set the preprocess operations to be performed on train/val/test samples\n",
        "MNIST_preprocess = torchvision.transforms.Compose([torchvision.transforms.ToTensor(),\n",
        "                                                   torchvision.transforms.Normalize((0.5,), (0.5,))])\n",
        "\n",
        "# download MNIST training set and reserve 50000 for training\n",
        "train_dataset = torchvision.datasets.FashionMNIST(root='./data/torchvision/FashionMNIST/training', train=True, download=True, transform=MNIST_preprocess)\n",
        "train_set, val_set = torch.utils.data.random_split(train_dataset, [50000, 10000])\n",
        "\n",
        "# download MNIST test set\n",
        "test_set = torchvision.datasets.FashionMNIST(root='./data/torchvision/FashionMNIST/testing', train=False, download=True, transform=MNIST_preprocess)\n",
        "\n",
        "# We define the data loaders using the datasets\n",
        "train_loader = torch.utils.data.DataLoader(dataset=train_set, batch_size=32, shuffle=True)\n",
        "val_loader = torch.utils.data.DataLoader(dataset=val_set, batch_size=32, shuffle=False)\n",
        "test_loader = torch.utils.data.DataLoader(dataset=test_set, batch_size=32, shuffle=False)"
      ]
    },
    {
      "cell_type": "markdown",
      "metadata": {
        "id": "HCgXgIjuUD7r"
      },
      "source": [
        "## Picking one test sample and running it through the first attention block"
      ]
    },
    {
      "cell_type": "code",
      "execution_count": 5,
      "metadata": {
        "id": "CDFo3pgIiPuh"
      },
      "outputs": [
        {
          "name": "stdout",
          "output_type": "stream",
          "text": [
            "41\n"
          ]
        }
      ],
      "source": [
        "test_sample_index = (test_set.targets==1).nonzero(as_tuple=True)[0][5].item()\n",
        "print(test_sample_index)"
      ]
    },
    {
      "cell_type": "markdown",
      "metadata": {
        "id": "lVM5buibSpeK"
      },
      "source": [
        "## Plotting attention\n",
        "Now we have a normalized squared matrix of size $17\\times 17$. When plotting the first column is the class token. The remaining $16$ columns will be reshaped into a $4\\times 4$ matrix, ordered in a way where each patch has its position in the image. For better visualization, we'll use `interpolate` function to resize the $4\\times 4$ matrix to $28\\times 28$."
      ]
    },
    {
      "cell_type": "code",
      "execution_count": 8,
      "metadata": {},
      "outputs": [
        {
          "data": {
            "image/png": "[encoded data removed]",
            "text/plain": [
              "<Figure size 1200x200 with 4 Axes>"
            ]
          },
          "metadata": {},
          "output_type": "display_data"
        },
        {
          "data": {
            "image/png": "[encoded data removed]",
            "text/plain": [
              "<Figure size 1200x200 with 4 Axes>"
            ]
          },
          "metadata": {},
          "output_type": "display_data"
        },
        {
          "data": {
            "image/png": "[encoded data removed]",
            "text/plain": [
              "<Figure size 1200x200 with 4 Axes>"
            ]
          },
          "metadata": {},
          "output_type": "display_data"
        },
        {
          "data": {
            "image/png": "[encoded data removed]",
            "text/plain": [
              "<Figure size 1200x200 with 4 Axes>"
            ]
          },
          "metadata": {},
          "output_type": "display_data"
        },
        {
          "name": "stdout",
          "output_type": "stream",
          "text": [
            "2\n"
          ]
        }
      ],
      "source": [
        "def plot_attention_maps(test_sample_index):\n",
        "    #img_tensor = test_set.data[test_sample_index].to(device)\n",
        "    img_tensor = test_set[test_sample_index][0].squeeze().to(device)\n",
        "    img_tensor = (img_tensor * 255).clamp(0, 255).byte()\n",
        "    patches = img_to_patch(img_tensor.unsqueeze(0).unsqueeze(0), patch_size=patch_size)\n",
        "    patches = model.input_layer(patches.float())\n",
        "    transformer_input = torch.cat((model.cls_token, patches), dim=1) + model.pos_embedding\n",
        "    transformer_input_expanded = model.transformer[0].linear[0](transformer_input)[0]\n",
        "\n",
        "    last_dim = (transformer_input_expanded.shape[0]*transformer_input_expanded.shape[1]) / ((num_patches+1)*3*num_heads)\n",
        "    qkv = transformer_input_expanded.reshape(num_patches+1, 3, num_heads, int(last_dim))\n",
        "    q = qkv[:, 0].permute(1, 0, 2)\n",
        "    k = qkv[:, 1].permute(1, 0, 2)\n",
        "    kT = k.permute(0, 2, 1)\n",
        "\n",
        "    attention_matrices = [q[i] @ kT[i] for i in range(num_heads)]\n",
        "\n",
        "    fig, axes = plt.subplots(1, num_heads + 1, figsize=(12,2))\n",
        "    img = np.asarray(img_tensor.cpu())\n",
        "\n",
        "    axes[0].imshow(img, cmap='gray')\n",
        "    if test_sample_index == test_sample_indices[0]:\n",
        "      axes[0].set_title('MNIST test sample', fontsize=10)\n",
        "    axes[0].tick_params(axis='both', which='both', bottom=False, top=False, left=False, right=False,\n",
        "                        labelbottom=False, labeltop=False, labelleft=False, labelright=False)\n",
        "\n",
        "    for i, attention_matrix in enumerate(attention_matrices):\n",
        "        residual_att = torch.eye(attention_matrix.size(1)).to(device)\n",
        "        aug_att_mat = attention_matrix + residual_att\n",
        "        aug_att_mat = aug_att_mat / aug_att_mat.sum(dim=-1).unsqueeze(-1)\n",
        "\n",
        "        joint_attentions = torch.zeros(aug_att_mat.size()).to(device)\n",
        "        joint_attentions[0] = aug_att_mat[0]\n",
        "        for n in range(1, aug_att_mat.size(0)):\n",
        "            joint_attentions[n] = torch.matmul(aug_att_mat[n], joint_attentions[n-1])\n",
        "\n",
        "        attn_heatmap = joint_attentions[0, 1:].reshape((int(image_size/patch_size), int(image_size/patch_size)))\n",
        "        attn_heatmap_resized = F.interpolate(attn_heatmap.unsqueeze(0).unsqueeze(0), [image_size, image_size], mode='bilinear').view(28, 28, 1)\n",
        "\n",
        "        axes[i + 1].imshow(attn_heatmap_resized.detach().cpu().numpy())\n",
        "        if test_sample_index == test_sample_indices[0]:\n",
        "          axes[i + 1].set_title(f'Attention Map Head {i+1}', fontsize=10)\n",
        "        axes[i + 1].tick_params(axis='both', which='both', bottom=False, top=False, left=False, right=False,\n",
        "                            labelbottom=False, labeltop=False, labelleft=False, labelright=False)\n",
        "\n",
        "    plt.subplots_adjust(wspace=0.1)\n",
        "    plt.show()\n",
        "    plt.close()\n",
        "\n",
        "# Seleziona 4 immagini di test\n",
        "test_sample_indices = [(test_set.targets==1).nonzero(as_tuple=True)[0][i].item() for i in range(4)]\n",
        "\n",
        "# Visualizza le mappe di attenzione per ogni immagine\n",
        "for idx in test_sample_indices:\n",
        "    plot_attention_maps(idx)\n",
        "\n",
        "print (test_sample_indices[0])"
      ]
    },
    {
      "cell_type": "code",
      "execution_count": 9,
      "metadata": {},
      "outputs": [
        {
          "name": "stdout",
          "output_type": "stream",
          "text": [
            "Image tensor shape:  torch.Size([28, 28])\n",
            "Input tensor to Transformer:  torch.Size([1, 17, 255])\n",
            "transformer_input_expanded shape:  torch.Size([17, 765])\n",
            "qkv shape:  torch.Size([3, 3, 17, 85])\n",
            "q shape:  torch.Size([3, 17, 85])\n",
            "k shape:  torch.Size([3, 17, 85])\n",
            "attention matrices shape:  torch.Size([3, 17, 17])\n",
            "attention_matrices_mean shape:  torch.Size([3, 17])\n"
          ]
        },
        {
          "data": {
            "image/png": "[encoded data removed]",
            "text/plain": [
              "<Figure size 1600x600 with 4 Axes>"
            ]
          },
          "metadata": {},
          "output_type": "display_data"
        }
      ],
      "source": [
        "# Estrazione dell'indice del campione di test e preparazione dell'immagine\n",
        "test_sample_index = (test_set.targets == 7).nonzero(as_tuple=True)[0][12].item()\n",
        "# Estrazione di un campione di test\n",
        "#img_tensor = test_set.data[test_sample_index].to(device)\n",
        "img_tensor = test_set[test_sample_index][0].squeeze().to(device)\n",
        "img_tensor = (img_tensor * 255).clamp(0, 255).byte()\n",
        "\n",
        "print (\"Image tensor shape: \", img_tensor.shape)\n",
        "# Conversione dell'immagine in patch\n",
        "patches = img_to_patch(img_tensor.unsqueeze(0).unsqueeze(0), patch_size=patch_size)\n",
        "# Passaggio delle patch attraverso lo strato di input per ottenere un tensore di dimensione embed_dim\n",
        "patches = model.input_layer(patches.float())\n",
        "# Aggiunta del token di classe e embedding posizionale\n",
        "transformer_input = torch.cat((model.cls_token, patches), dim=1) + model.pos_embedding\n",
        "print(\"Input tensor to Transformer: \", transformer_input.shape)\n",
        "\n",
        "# Passaggio dell'immagine attraverso il primo blocco di attenzione\n",
        "transformer_input_expanded = model.transformer[0].linear[0](transformer_input).squeeze(0)\n",
        "print(\"transformer_input_expanded shape: \", transformer_input_expanded.shape)\n",
        "\n",
        "# Reshape del risultato della prima attenzione# Reshape del risultato della prima attenzione\n",
        "qkv = transformer_input_expanded.reshape(num_patches + 1, 3, -1, num_heads).permute(1, 3, 0, 2)\n",
        "# Dim: (3, num_heads, num_patches + 1, embedding_size // num_heads)\n",
        "print(\"qkv shape: \", qkv.shape)\n",
        "\n",
        "# Estrazione delle matrici di query e key per tutte le attention heads\n",
        "q = qkv[0]  # Query matrix (num_heads, num_patches + 1, embedding_size // num_heads)\n",
        "k = qkv[1]  # Key matrix (num_heads, num_patches + 1, embedding_size // num_heads)\n",
        "print(\"q shape: \", q.shape)\n",
        "print(\"k shape: \", k.shape)\n",
        "\n",
        "# Moltiplicazione di q e k^T per ottenere le matrici di attenzione per ciascuna head\n",
        "kT = k.transpose(-2, -1)  # Trasposizione per fare la moltiplicazione corretta\n",
        "attention_matrices = torch.matmul(q, kT)  # Dim: (num_heads, num_patches + 1, num_patches + 1)\n",
        "print(\"attention matrices shape: \", attention_matrices.shape)\n",
        "\n",
        "# Normalizzazione delle matrici di attenzione per tutte le heads\n",
        "attention_matrices_mean = torch.mean(attention_matrices, dim=-1)\n",
        "print(\"attention_matrices_mean shape: \", attention_matrices_mean.shape)\n",
        "\n",
        "# Aggiunta delle connessioni residue e normalizzazione\n",
        "residual_att = torch.eye(attention_matrices.size(-1)).to(device)\n",
        "aug_att_mats = attention_matrices + residual_att\n",
        "aug_att_mats = aug_att_mats / aug_att_mats.sum(dim=-1).unsqueeze(-1)\n",
        "\n",
        "# Visualizzazione delle heatmap per ciascuna head\n",
        "fig, axes = plt.subplots(1, 4, figsize=(16, 6))\n",
        "img = np.asarray(img_tensor.cpu())\n",
        "axes[0].imshow(img, cmap='gray')\n",
        "axes[0].set_title('MNIST test sample')\n",
        "axes[0].tick_params(axis='both', which='both', bottom=False, top=False, left=False, right=False,\n",
        "                    labelbottom=False, labeltop=False, labelleft=False, labelright=False)\n",
        "\n",
        "# Visualizzazione delle heatmap per ogni head\n",
        "for i in range(3):  # Le prime 3 heads\n",
        "    attn_heatmap = aug_att_mats[i, 0, 1:].reshape((int(image_size/patch_size), int(image_size/patch_size)))\n",
        "    attn_heatmap_resized = F.interpolate(attn_heatmap.unsqueeze(0).unsqueeze(0), [image_size, image_size], mode='bilinear').view(28, 28, 1)\n",
        "    axes[i + 1].imshow(attn_heatmap_resized.detach().cpu().numpy())\n",
        "    axes[i + 1].set_title(f'Attention head {i + 1}')\n",
        "    axes[i + 1].tick_params(axis='both', which='both', bottom=False, top=False, left=False, right=False,\n",
        "                            labelbottom=False, labeltop=False, labelleft=False, labelright=False)\n",
        "\n",
        "plt.show()\n"
      ]
    }
  ],
  "metadata": {
    "accelerator": "GPU",
    "colab": {
      "gpuType": "T4",
      "provenance": []
    },
    "kernelspec": {
      "display_name": "Python 3",
      "name": "python3"
    },
    "language_info": {
      "codemirror_mode": {
        "name": "ipython",
        "version": 3
      },
      "file_extension": ".py",
      "mimetype": "text/x-python",
      "name": "python",
      "nbconvert_exporter": "python",
      "pygments_lexer": "ipython3",
      "version": "3.11.3"
    },
    "widgets": {
      "application/vnd.jupyter.widget-state+json": {
        "256ba44485a043ecb70e239514e300b9": {
          "model_module": "@jupyter-widgets/controls",
          "model_module_version": "1.5.0",
          "model_name": "DescriptionStyleModel",
          "state": {
            "_model_module": "@jupyter-widgets/controls",
            "_model_module_version": "1.5.0",
            "_model_name": "DescriptionStyleModel",
            "_view_count": null,
            "_view_module": "@jupyter-widgets/base",
            "_view_module_version": "1.2.0",
            "_view_name": "StyleView",
            "description_width": ""
          }
        },
        "25cc1d104ee6476aba246a97068e4592": {
          "model_module": "@jupyter-widgets/controls",
          "model_module_version": "1.5.0",
          "model_name": "HTMLModel",
          "state": {
            "_dom_classes": [],
            "_model_module": "@jupyter-widgets/controls",
            "_model_module_version": "1.5.0",
            "_model_name": "HTMLModel",
            "_view_count": null,
            "_view_module": "@jupyter-widgets/controls",
            "_view_module_version": "1.5.0",
            "_view_name": "HTMLView",
            "description": "",
            "description_tooltip": null,
            "layout": "IPY_MODEL_797f8fa659a44ce1a757215702c0b5b6",
            "placeholder": "​",
            "style": "IPY_MODEL_256ba44485a043ecb70e239514e300b9",
            "value": "epoch 1:   3%"
          }
        },
        "3c5dc0383fab49e79fca5a3d39e85993": {
          "model_module": "@jupyter-widgets/base",
          "model_module_version": "1.2.0",
          "model_name": "LayoutModel",
          "state": {
            "_model_module": "@jupyter-widgets/base",
            "_model_module_version": "1.2.0",
            "_model_name": "LayoutModel",
            "_view_count": null,
            "_view_module": "@jupyter-widgets/base",
            "_view_module_version": "1.2.0",
            "_view_name": "LayoutView",
            "align_content": null,
            "align_items": null,
            "align_self": null,
            "border": null,
            "bottom": null,
            "display": null,
            "flex": null,
            "flex_flow": null,
            "grid_area": null,
            "grid_auto_columns": null,
            "grid_auto_flow": null,
            "grid_auto_rows": null,
            "grid_column": null,
            "grid_gap": null,
            "grid_row": null,
            "grid_template_areas": null,
            "grid_template_columns": null,
            "grid_template_rows": null,
            "height": null,
            "justify_content": null,
            "justify_items": null,
            "left": null,
            "margin": null,
            "max_height": null,
            "max_width": null,
            "min_height": null,
            "min_width": null,
            "object_fit": null,
            "object_position": null,
            "order": null,
            "overflow": null,
            "overflow_x": null,
            "overflow_y": null,
            "padding": null,
            "right": null,
            "top": null,
            "visibility": null,
            "width": null
          }
        },
        "62d4acd1613a4063b7cdf04102715455": {
          "model_module": "@jupyter-widgets/base",
          "model_module_version": "1.2.0",
          "model_name": "LayoutModel",
          "state": {
            "_model_module": "@jupyter-widgets/base",
            "_model_module_version": "1.2.0",
            "_model_name": "LayoutModel",
            "_view_count": null,
            "_view_module": "@jupyter-widgets/base",
            "_view_module_version": "1.2.0",
            "_view_name": "LayoutView",
            "align_content": null,
            "align_items": null,
            "align_self": null,
            "border": null,
            "bottom": null,
            "display": null,
            "flex": null,
            "flex_flow": null,
            "grid_area": null,
            "grid_auto_columns": null,
            "grid_auto_flow": null,
            "grid_auto_rows": null,
            "grid_column": null,
            "grid_gap": null,
            "grid_row": null,
            "grid_template_areas": null,
            "grid_template_columns": null,
            "grid_template_rows": null,
            "height": null,
            "justify_content": null,
            "justify_items": null,
            "left": null,
            "margin": null,
            "max_height": null,
            "max_width": null,
            "min_height": null,
            "min_width": null,
            "object_fit": null,
            "object_position": null,
            "order": null,
            "overflow": null,
            "overflow_x": null,
            "overflow_y": null,
            "padding": null,
            "right": null,
            "top": null,
            "visibility": null,
            "width": null
          }
        },
        "797f8fa659a44ce1a757215702c0b5b6": {
          "model_module": "@jupyter-widgets/base",
          "model_module_version": "1.2.0",
          "model_name": "LayoutModel",
          "state": {
            "_model_module": "@jupyter-widgets/base",
            "_model_module_version": "1.2.0",
            "_model_name": "LayoutModel",
            "_view_count": null,
            "_view_module": "@jupyter-widgets/base",
            "_view_module_version": "1.2.0",
            "_view_name": "LayoutView",
            "align_content": null,
            "align_items": null,
            "align_self": null,
            "border": null,
            "bottom": null,
            "display": null,
            "flex": null,
            "flex_flow": null,
            "grid_area": null,
            "grid_auto_columns": null,
            "grid_auto_flow": null,
            "grid_auto_rows": null,
            "grid_column": null,
            "grid_gap": null,
            "grid_row": null,
            "grid_template_areas": null,
            "grid_template_columns": null,
            "grid_template_rows": null,
            "height": null,
            "justify_content": null,
            "justify_items": null,
            "left": null,
            "margin": null,
            "max_height": null,
            "max_width": null,
            "min_height": null,
            "min_width": null,
            "object_fit": null,
            "object_position": null,
            "order": null,
            "overflow": null,
            "overflow_x": null,
            "overflow_y": null,
            "padding": null,
            "right": null,
            "top": null,
            "visibility": null,
            "width": null
          }
        },
        "90cb293c408043019bd5a7476d7eb757": {
          "model_module": "@jupyter-widgets/controls",
          "model_module_version": "1.5.0",
          "model_name": "HTMLModel",
          "state": {
            "_dom_classes": [],
            "_model_module": "@jupyter-widgets/controls",
            "_model_module_version": "1.5.0",
            "_model_name": "HTMLModel",
            "_view_count": null,
            "_view_module": "@jupyter-widgets/controls",
            "_view_module_version": "1.5.0",
            "_view_name": "HTMLView",
            "description": "",
            "description_tooltip": null,
            "layout": "IPY_MODEL_fbd28b783cbb4b0b8b44c43cd9fa8e90",
            "placeholder": "​",
            "style": "IPY_MODEL_aa07b26dde844bea9f80e290d494bc43",
            "value": " 40/1563 [00:19&lt;10:35,  2.39it/s]"
          }
        },
        "aa07b26dde844bea9f80e290d494bc43": {
          "model_module": "@jupyter-widgets/controls",
          "model_module_version": "1.5.0",
          "model_name": "DescriptionStyleModel",
          "state": {
            "_model_module": "@jupyter-widgets/controls",
            "_model_module_version": "1.5.0",
            "_model_name": "DescriptionStyleModel",
            "_view_count": null,
            "_view_module": "@jupyter-widgets/base",
            "_view_module_version": "1.2.0",
            "_view_name": "StyleView",
            "description_width": ""
          }
        },
        "ced4f78cb7534778bc1db71a5f8a7210": {
          "model_module": "@jupyter-widgets/controls",
          "model_module_version": "1.5.0",
          "model_name": "ProgressStyleModel",
          "state": {
            "_model_module": "@jupyter-widgets/controls",
            "_model_module_version": "1.5.0",
            "_model_name": "ProgressStyleModel",
            "_view_count": null,
            "_view_module": "@jupyter-widgets/base",
            "_view_module_version": "1.2.0",
            "_view_name": "StyleView",
            "bar_color": null,
            "description_width": ""
          }
        },
        "e2b625bcec6443c1a37658865aa25076": {
          "model_module": "@jupyter-widgets/controls",
          "model_module_version": "1.5.0",
          "model_name": "FloatProgressModel",
          "state": {
            "_dom_classes": [],
            "_model_module": "@jupyter-widgets/controls",
            "_model_module_version": "1.5.0",
            "_model_name": "FloatProgressModel",
            "_view_count": null,
            "_view_module": "@jupyter-widgets/controls",
            "_view_module_version": "1.5.0",
            "_view_name": "ProgressView",
            "bar_style": "",
            "description": "",
            "description_tooltip": null,
            "layout": "IPY_MODEL_3c5dc0383fab49e79fca5a3d39e85993",
            "max": 1563,
            "min": 0,
            "orientation": "horizontal",
            "style": "IPY_MODEL_ced4f78cb7534778bc1db71a5f8a7210",
            "value": 41
          }
        },
        "ea28558c636d4e02bb5de998c978a444": {
          "model_module": "@jupyter-widgets/controls",
          "model_module_version": "1.5.0",
          "model_name": "HBoxModel",
          "state": {
            "_dom_classes": [],
            "_model_module": "@jupyter-widgets/controls",
            "_model_module_version": "1.5.0",
            "_model_name": "HBoxModel",
            "_view_count": null,
            "_view_module": "@jupyter-widgets/controls",
            "_view_module_version": "1.5.0",
            "_view_name": "HBoxView",
            "box_style": "",
            "children": [
              "IPY_MODEL_25cc1d104ee6476aba246a97068e4592",
              "IPY_MODEL_e2b625bcec6443c1a37658865aa25076",
              "IPY_MODEL_90cb293c408043019bd5a7476d7eb757"
            ],
            "layout": "IPY_MODEL_62d4acd1613a4063b7cdf04102715455"
          }
        },
        "fbd28b783cbb4b0b8b44c43cd9fa8e90": {
          "model_module": "@jupyter-widgets/base",
          "model_module_version": "1.2.0",
          "model_name": "LayoutModel",
          "state": {
            "_model_module": "@jupyter-widgets/base",
            "_model_module_version": "1.2.0",
            "_model_name": "LayoutModel",
            "_view_count": null,
            "_view_module": "@jupyter-widgets/base",
            "_view_module_version": "1.2.0",
            "_view_name": "LayoutView",
            "align_content": null,
            "align_items": null,
            "align_self": null,
            "border": null,
            "bottom": null,
            "display": null,
            "flex": null,
            "flex_flow": null,
            "grid_area": null,
            "grid_auto_columns": null,
            "grid_auto_flow": null,
            "grid_auto_rows": null,
            "grid_column": null,
            "grid_gap": null,
            "grid_row": null,
            "grid_template_areas": null,
            "grid_template_columns": null,
            "grid_template_rows": null,
            "height": null,
            "justify_content": null,
            "justify_items": null,
            "left": null,
            "margin": null,
            "max_height": null,
            "max_width": null,
            "min_height": null,
            "min_width": null,
            "object_fit": null,
            "object_position": null,
            "order": null,
            "overflow": null,
            "overflow_x": null,
            "overflow_y": null,
            "padding": null,
            "right": null,
            "top": null,
            "visibility": null,
            "width": null
          }
        }
      }
    }
  },
  "nbformat": 4,
  "nbformat_minor": 0
}
