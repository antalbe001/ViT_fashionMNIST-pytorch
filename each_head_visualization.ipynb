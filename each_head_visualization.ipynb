{
  "cells": [
    {
      "cell_type": "markdown",
      "metadata": {
        "id": "WG-N2wQhVUfH"
      },
      "source": [
        "## Import libraries"
      ]
    },
    {
      "cell_type": "code",
      "execution_count": 1,
      "metadata": {
        "id": "vjDtScPCJu47"
      },
      "outputs": [],
      "source": [
        "import os\n",
        "import random\n",
        "\n",
        "import torch\n",
        "import torch.nn as nn\n",
        "import torch.nn.functional as F\n",
        "import torch.optim as optim\n",
        "import torch.utils.data as data\n",
        "import torchvision\n",
        "\n",
        "import numpy as np\n",
        "import matplotlib.pyplot as plt\n",
        "from datetime import datetime\n",
        "from tqdm.notebook import tqdm_notebook"
      ]
    },
    {
      "cell_type": "markdown",
      "metadata": {
        "id": "X0mfvypsVXtc"
      },
      "source": [
        "## Setting some parameters"
      ]
    },
    {
      "cell_type": "code",
      "execution_count": 2,
      "metadata": {
        "colab": {
          "base_uri": "https://localhost:8080/"
        },
        "id": "jS20dTmWWLss",
        "outputId": "8b3239ee-7dfd-430c-9ad3-0dcc9aacf12f"
      },
      "outputs": [
        {
          "name": "stdout",
          "output_type": "stream",
          "text": [
            "Device: cpu\n"
          ]
        }
      ],
      "source": [
        "# Setting the seed\n",
        "random.seed(42)\n",
        "g = torch.Generator().manual_seed(2147483647) # for reproducibility\n",
        "\n",
        "# Ensure that all operations are deterministic on GPU (if used) for reproducibility\n",
        "torch.backends.cudnn.deterministic = True\n",
        "torch.backends.cudnn.benchmark = False\n",
        "\n",
        "device = torch.device(\"mps\") if torch.backends.mps.is_available() else torch.device(\"cpu\")\n",
        "print(\"Device:\", device)"
      ]
    },
    {
      "cell_type": "code",
      "execution_count": 3,
      "metadata": {
        "id": "KFBKdZyaVBce"
      },
      "outputs": [],
      "source": [
        "image_size = 28\n",
        "embed_dim=255\n",
        "hidden_dim=embed_dim*3\n",
        "num_heads=3\n",
        "num_layers=6\n",
        "patch_size=7\n",
        "num_patches=16\n",
        "num_channels=1\n",
        "num_classes=10\n",
        "dropout=0.2"
      ]
    },
    {
      "cell_type": "markdown",
      "metadata": {
        "id": "clIxG3FpVNLr"
      },
      "source": [
        "## Downloading MNIST from torchvision"
      ]
    },
    {
      "cell_type": "code",
      "execution_count": 4,
      "metadata": {
        "colab": {
          "base_uri": "https://localhost:8080/"
        },
        "id": "EfPaYgQ1Mj_7",
        "outputId": "274f2059-d85f-476d-b646-62ead6efd7d5"
      },
      "outputs": [],
      "source": [
        "# set the preprocess operations to be performed on train/val/test samples\n",
        "MNIST_preprocess = torchvision.transforms.Compose([torchvision.transforms.ToTensor(),\n",
        "                                                   torchvision.transforms.Normalize((0.5,), (0.5,))])\n",
        "\n",
        "# download MNIST training set and reserve 50000 for training\n",
        "train_dataset = torchvision.datasets.FashionMNIST(root='./data/torchvision/FashionMNIST/training', train=True, download=True, transform=MNIST_preprocess)\n",
        "train_set, val_set = torch.utils.data.random_split(train_dataset, [50000, 10000])\n",
        "\n",
        "# download MNIST test set\n",
        "test_set = torchvision.datasets.FashionMNIST(root='./data/torchvision/FashionMNIST/testing', train=False, download=True, transform=MNIST_preprocess)\n",
        "\n",
        "# We define the data loaders using the datasets\n",
        "train_loader = torch.utils.data.DataLoader(dataset=train_set, batch_size=32, shuffle=True)\n",
        "val_loader = torch.utils.data.DataLoader(dataset=val_set, batch_size=32, shuffle=False)\n",
        "test_loader = torch.utils.data.DataLoader(dataset=test_set, batch_size=32, shuffle=False)"
      ]
    },
    {
      "cell_type": "code",
      "execution_count": 5,
      "metadata": {
        "colab": {
          "base_uri": "https://localhost:8080/"
        },
        "id": "w06tAiSbaBKl",
        "outputId": "e65d1431-02e9-4ac9-b605-43336bdaf286"
      },
      "outputs": [
        {
          "name": "stdout",
          "output_type": "stream",
          "text": [
            "---------training loader---------\n",
            "50000\n",
            "torch.Size([32, 1, 28, 28])\n",
            "torch.Size([32])\n",
            "---------validation loader---------\n",
            "10000\n",
            "torch.Size([32, 1, 28, 28])\n",
            "torch.Size([32])\n",
            "---------test loader---------\n",
            "10000\n",
            "torch.Size([32, 1, 28, 28])\n",
            "torch.Size([32])\n"
          ]
        }
      ],
      "source": [
        "# print the dimension of images to verify all loaders have the same dimensions\n",
        "def print_dim(loader, text):\n",
        "  print('---------'+text+'---------')\n",
        "  print(len(loader.dataset))\n",
        "  for image, label in loader:\n",
        "    print(image.shape)\n",
        "    print(label.shape)\n",
        "    break\n",
        "\n",
        "print_dim(train_loader,'training loader')\n",
        "print_dim(val_loader,'validation loader')\n",
        "print_dim(test_loader,'test loader')"
      ]
    },
    {
      "cell_type": "code",
      "execution_count": 6,
      "metadata": {
        "colab": {
          "base_uri": "https://localhost:8080/",
          "height": 675
        },
        "id": "UWL-NO-EPag0",
        "outputId": "5e0e4c3c-1725-4449-9169-2f1f2875af65"
      },
      "outputs": [
        {
          "data": {
            "image/png": "[encoded data removed]",
            "text/plain": [
              "<Figure size 800x800 with 1 Axes>"
            ]
          },
          "metadata": {},
          "output_type": "display_data"
        }
      ],
      "source": [
        "# Visualize some examples\n",
        "NUM_IMAGES = 4\n",
        "MNIST_examples = torch.stack([val_set[idx][0] for idx in range(NUM_IMAGES)], dim=0)\n",
        "img_grid = torchvision.utils.make_grid(MNIST_examples, nrow=2, normalize=True, pad_value=0.9)\n",
        "img_grid = img_grid.permute(1, 2, 0)\n",
        "\n",
        "plt.figure(figsize=(8, 8))\n",
        "plt.title(\"Image examples of the MNIST dataset\")\n",
        "plt.imshow(img_grid)\n",
        "plt.axis(\"off\")\n",
        "plt.show()\n",
        "plt.close()"
      ]
    },
    {
      "cell_type": "markdown",
      "metadata": {
        "id": "P5qvUYhAVFVQ"
      },
      "source": [
        "## Visualizing `img_to_patch` function"
      ]
    },
    {
      "cell_type": "code",
      "execution_count": 7,
      "metadata": {
        "id": "PqPePGXJN222"
      },
      "outputs": [],
      "source": [
        "def img_to_patch(x, patch_size, flatten_channels=True):\n",
        "    \"\"\"\n",
        "    Inputs:\n",
        "        x - Tensor representing the image of shape [B, C, H, W]\n",
        "        patch_size - Number of pixels per dimension of the patches (integer)\n",
        "        flatten_channels - If True, the patches will be returned in a flattened format\n",
        "                           as a feature vector instead of a image grid.\n",
        "    \"\"\"\n",
        "    B, C, H, W = x.shape # [B, C, H, W], MNIST [B, 1, 28, 28]\n",
        "    x = x.reshape(B, C, H // patch_size, patch_size, W // patch_size, patch_size) # [B, C, H', p_H, W', p_W], MNIST [B, 1, 4, 7, 4, 7]\n",
        "    x = x.permute(0, 2, 4, 1, 3, 5)  # [B, H', W', C, p_H, p_W], MNIST [B, 4, 4, 1, 7, 7]\n",
        "    x = x.flatten(1, 2)  # [B, H'*W', C, p_H, p_W], MNIST [B, 16, 1, 7, 7]\n",
        "    if flatten_channels:\n",
        "        x = x.flatten(2, 4)  # [B, H'*W', C*p_H*p_W], MNIST [B, 16, 49]\n",
        "    return x"
      ]
    },
    {
      "cell_type": "code",
      "execution_count": 8,
      "metadata": {
        "colab": {
          "base_uri": "https://localhost:8080/",
          "height": 1000
        },
        "id": "4guH3mWSOZ6-",
        "outputId": "377c2217-111f-4051-8c8c-f4b7340ecf05"
      },
      "outputs": [
        {
          "data": {
            "image/png": "[encoded data removed]",
            "text/plain": [
              "<Figure size 1400x1200 with 4 Axes>"
            ]
          },
          "metadata": {},
          "output_type": "display_data"
        }
      ],
      "source": [
        "# Visualize the image patches\n",
        "img_patches = img_to_patch(MNIST_examples, patch_size=patch_size, flatten_channels=False)\n",
        "\n",
        "fig, ax = plt.subplots(MNIST_examples.shape[0], 1, figsize=(14, 12))\n",
        "fig.suptitle(\"Images as input sequences of patches\")\n",
        "for i in range(MNIST_examples.shape[0]):\n",
        "    img_grid = torchvision.utils.make_grid(img_patches[i], nrow=int(image_size/patch_size), normalize=True, pad_value=0.9)\n",
        "    img_grid = img_grid.permute(1, 2, 0)\n",
        "    ax[i].imshow(img_grid)\n",
        "    ax[i].axis(\"off\")\n",
        "plt.show()\n",
        "plt.close()"
      ]
    },
    {
      "cell_type": "markdown",
      "metadata": {
        "id": "v9UpgIOwUu3G"
      },
      "source": [
        "## VisionTransformer class"
      ]
    },
    {
      "cell_type": "code",
      "execution_count": 9,
      "metadata": {
        "id": "IWrZnDnnS1X2"
      },
      "outputs": [],
      "source": [
        "class AttentionBlock(nn.Module):\n",
        "    def __init__(self, embed_dim, hidden_dim, num_heads, dropout=0.0):\n",
        "        \"\"\"\n",
        "        Inputs:\n",
        "            embed_dim - Dimensionality of input and attention feature vectors\n",
        "            hidden_dim - Dimensionality of hidden layer in feed-forward network\n",
        "                         (usually 2-4x larger than embed_dim)\n",
        "            num_heads - Number of heads to use in the Multi-Head Attention block\n",
        "            dropout - Amount of dropout to apply in the feed-forward network\n",
        "        \"\"\"\n",
        "        super().__init__()\n",
        "\n",
        "        self.layer_norm_1 = nn.LayerNorm(embed_dim)\n",
        "        self.attn = nn.MultiheadAttention(embed_dim, num_heads)\n",
        "        self.layer_norm_2 = nn.LayerNorm(embed_dim)\n",
        "        self.linear = nn.Sequential(\n",
        "            nn.Linear(embed_dim, hidden_dim),\n",
        "            nn.GELU(),\n",
        "            nn.Dropout(dropout),\n",
        "            nn.Linear(hidden_dim, embed_dim),\n",
        "            nn.Dropout(dropout),\n",
        "        )\n",
        "\n",
        "    def forward(self, x):\n",
        "        inp_x = self.layer_norm_1(x)\n",
        "        x = x + self.attn(inp_x, inp_x, inp_x)[0]\n",
        "        x = x + self.linear(self.layer_norm_2(x))\n",
        "        return x"
      ]
    },
    {
      "cell_type": "code",
      "execution_count": 10,
      "metadata": {
        "id": "gpigPzyxTckX"
      },
      "outputs": [],
      "source": [
        "class VisionTransformer(nn.Module):\n",
        "    def __init__(\n",
        "        self,\n",
        "        embed_dim,\n",
        "        hidden_dim,\n",
        "        num_channels,\n",
        "        num_heads,\n",
        "        num_layers,\n",
        "        num_classes,\n",
        "        patch_size,\n",
        "        num_patches,\n",
        "        dropout=0.0,\n",
        "    ):\n",
        "        \"\"\"\n",
        "        Inputs:\n",
        "            embed_dim - Dimensionality of the input feature vectors to the Transformer\n",
        "            hidden_dim - Dimensionality of the hidden layer in the feed-forward networks\n",
        "                         within the Transformer\n",
        "            num_channels - Number of channels of the input (3 for RGB or 1 for grayscale)\n",
        "            num_heads - Number of heads to use in the Multi-Head Attention block\n",
        "            num_layers - Number of layers to use in the Transformer\n",
        "            num_classes - Number of classes to predict\n",
        "            patch_size - Number of pixels that the patches have per dimension\n",
        "            num_patches - Maximum number of patches an image can have\n",
        "            dropout - Amount of dropout to apply in the feed-forward network and\n",
        "                      on the input encoding\n",
        "        \"\"\"\n",
        "        super().__init__()\n",
        "\n",
        "        self.patch_size = patch_size\n",
        "\n",
        "        # Layers/Networks\n",
        "        self.input_layer = nn.Linear(num_channels * (patch_size**2), embed_dim)\n",
        "        self.transformer = nn.Sequential(\n",
        "            *(AttentionBlock(embed_dim, hidden_dim, num_heads, dropout=dropout) for _ in range(num_layers))\n",
        "        )\n",
        "        self.mlp_head = nn.Sequential(nn.LayerNorm(embed_dim), nn.Linear(embed_dim, num_classes))\n",
        "        self.dropout = nn.Dropout(dropout)\n",
        "\n",
        "        # Parameters/Embeddings\n",
        "        self.cls_token = nn.Parameter(torch.randn(1, 1, embed_dim))\n",
        "        self.pos_embedding = nn.Parameter(torch.randn(1, 1 + num_patches, embed_dim))\n",
        "\n",
        "    def forward(self, x):\n",
        "        # Preprocess input\n",
        "        x = img_to_patch(x, self.patch_size)        # x.shape ---> batch, num_patches, (patch_size**2)\n",
        "        B, T, _ = x.shape\n",
        "        x = self.input_layer(x)                     # x.shape ---> batch, num_patches, embed_dim\n",
        "\n",
        "        # Add CLS token and positional encoding\n",
        "        cls_token = self.cls_token.repeat(B, 1, 1)\n",
        "        x = torch.cat([cls_token, x], dim=1)        # x.shape ---> batch, num_patches+1, embed_dim\n",
        "        x = x + self.pos_embedding[:, : T + 1]      # x.shape ---> batch, num_patches+1, embed_dim\n",
        "\n",
        "        # Apply Transformer\n",
        "        x = self.dropout(x)\n",
        "        x = x.transpose(0, 1)                       # x.shape ---> num_patches+1, batch, embed_dim\n",
        "        x = self.transformer(x)                     # x.shape ---> num_patches+1, batch, embed_dim\n",
        "\n",
        "        # Perform classification prediction\n",
        "        cls = x[0]\n",
        "        out = self.mlp_head(cls)\n",
        "        return out"
      ]
    },
    {
      "cell_type": "markdown",
      "metadata": {
        "id": "oFcTwNVbUkD7"
      },
      "source": [
        "## Initializing the model"
      ]
    },
    {
      "cell_type": "code",
      "execution_count": 11,
      "metadata": {
        "id": "mfSQOlMEv3HH"
      },
      "outputs": [],
      "source": [
        "model = VisionTransformer(embed_dim=embed_dim,\n",
        "                          hidden_dim=hidden_dim,\n",
        "                          num_heads=num_heads,\n",
        "                          num_layers=num_layers,\n",
        "                          patch_size=patch_size,\n",
        "                          num_channels=num_channels,\n",
        "                          num_patches=num_patches,\n",
        "                          num_classes=num_classes,\n",
        "                          dropout=dropout)\n",
        "\n",
        "# Transfer to GPU\n",
        "model.to(device)\n",
        "model_restore = None #'/content/model_20230712_211204_0'\n",
        "if model_restore is not None and os.path.exists(model_restore):\n",
        "  model.load_state_dict(torch.load(model_restore))\n",
        "  model.restored = True"
      ]
    },
    {
      "cell_type": "code",
      "execution_count": 12,
      "metadata": {
        "colab": {
          "base_uri": "https://localhost:8080/"
        },
        "id": "pgOl_8IUJMSb",
        "outputId": "d5d5a674-7a92-4728-ce7a-f535a9b61a7d"
      },
      "outputs": [
        {
          "data": {
            "text/plain": [
              "VisionTransformer(\n",
              "  (input_layer): Linear(in_features=49, out_features=255, bias=True)\n",
              "  (transformer): Sequential(\n",
              "    (0): AttentionBlock(\n",
              "      (layer_norm_1): LayerNorm((255,), eps=1e-05, elementwise_affine=True)\n",
              "      (attn): MultiheadAttention(\n",
              "        (out_proj): NonDynamicallyQuantizableLinear(in_features=255, out_features=255, bias=True)\n",
              "      )\n",
              "      (layer_norm_2): LayerNorm((255,), eps=1e-05, elementwise_affine=True)\n",
              "      (linear): Sequential(\n",
              "        (0): Linear(in_features=255, out_features=765, bias=True)\n",
              "        (1): GELU(approximate='none')\n",
              "        (2): Dropout(p=0.2, inplace=False)\n",
              "        (3): Linear(in_features=765, out_features=255, bias=True)\n",
              "        (4): Dropout(p=0.2, inplace=False)\n",
              "      )\n",
              "    )\n",
              "    (1): AttentionBlock(\n",
              "      (layer_norm_1): LayerNorm((255,), eps=1e-05, elementwise_affine=True)\n",
              "      (attn): MultiheadAttention(\n",
              "        (out_proj): NonDynamicallyQuantizableLinear(in_features=255, out_features=255, bias=True)\n",
              "      )\n",
              "      (layer_norm_2): LayerNorm((255,), eps=1e-05, elementwise_affine=True)\n",
              "      (linear): Sequential(\n",
              "        (0): Linear(in_features=255, out_features=765, bias=True)\n",
              "        (1): GELU(approximate='none')\n",
              "        (2): Dropout(p=0.2, inplace=False)\n",
              "        (3): Linear(in_features=765, out_features=255, bias=True)\n",
              "        (4): Dropout(p=0.2, inplace=False)\n",
              "      )\n",
              "    )\n",
              "    (2): AttentionBlock(\n",
              "      (layer_norm_1): LayerNorm((255,), eps=1e-05, elementwise_affine=True)\n",
              "      (attn): MultiheadAttention(\n",
              "        (out_proj): NonDynamicallyQuantizableLinear(in_features=255, out_features=255, bias=True)\n",
              "      )\n",
              "      (layer_norm_2): LayerNorm((255,), eps=1e-05, elementwise_affine=True)\n",
              "      (linear): Sequential(\n",
              "        (0): Linear(in_features=255, out_features=765, bias=True)\n",
              "        (1): GELU(approximate='none')\n",
              "        (2): Dropout(p=0.2, inplace=False)\n",
              "        (3): Linear(in_features=765, out_features=255, bias=True)\n",
              "        (4): Dropout(p=0.2, inplace=False)\n",
              "      )\n",
              "    )\n",
              "    (3): AttentionBlock(\n",
              "      (layer_norm_1): LayerNorm((255,), eps=1e-05, elementwise_affine=True)\n",
              "      (attn): MultiheadAttention(\n",
              "        (out_proj): NonDynamicallyQuantizableLinear(in_features=255, out_features=255, bias=True)\n",
              "      )\n",
              "      (layer_norm_2): LayerNorm((255,), eps=1e-05, elementwise_affine=True)\n",
              "      (linear): Sequential(\n",
              "        (0): Linear(in_features=255, out_features=765, bias=True)\n",
              "        (1): GELU(approximate='none')\n",
              "        (2): Dropout(p=0.2, inplace=False)\n",
              "        (3): Linear(in_features=765, out_features=255, bias=True)\n",
              "        (4): Dropout(p=0.2, inplace=False)\n",
              "      )\n",
              "    )\n",
              "    (4): AttentionBlock(\n",
              "      (layer_norm_1): LayerNorm((255,), eps=1e-05, elementwise_affine=True)\n",
              "      (attn): MultiheadAttention(\n",
              "        (out_proj): NonDynamicallyQuantizableLinear(in_features=255, out_features=255, bias=True)\n",
              "      )\n",
              "      (layer_norm_2): LayerNorm((255,), eps=1e-05, elementwise_affine=True)\n",
              "      (linear): Sequential(\n",
              "        (0): Linear(in_features=255, out_features=765, bias=True)\n",
              "        (1): GELU(approximate='none')\n",
              "        (2): Dropout(p=0.2, inplace=False)\n",
              "        (3): Linear(in_features=765, out_features=255, bias=True)\n",
              "        (4): Dropout(p=0.2, inplace=False)\n",
              "      )\n",
              "    )\n",
              "    (5): AttentionBlock(\n",
              "      (layer_norm_1): LayerNorm((255,), eps=1e-05, elementwise_affine=True)\n",
              "      (attn): MultiheadAttention(\n",
              "        (out_proj): NonDynamicallyQuantizableLinear(in_features=255, out_features=255, bias=True)\n",
              "      )\n",
              "      (layer_norm_2): LayerNorm((255,), eps=1e-05, elementwise_affine=True)\n",
              "      (linear): Sequential(\n",
              "        (0): Linear(in_features=255, out_features=765, bias=True)\n",
              "        (1): GELU(approximate='none')\n",
              "        (2): Dropout(p=0.2, inplace=False)\n",
              "        (3): Linear(in_features=765, out_features=255, bias=True)\n",
              "        (4): Dropout(p=0.2, inplace=False)\n",
              "      )\n",
              "    )\n",
              "  )\n",
              "  (mlp_head): Sequential(\n",
              "    (0): LayerNorm((255,), eps=1e-05, elementwise_affine=True)\n",
              "    (1): Linear(in_features=255, out_features=10, bias=True)\n",
              "  )\n",
              "  (dropout): Dropout(p=0.2, inplace=False)\n",
              ")"
            ]
          },
          "execution_count": 12,
          "metadata": {},
          "output_type": "execute_result"
        }
      ],
      "source": [
        "model"
      ]
    },
    {
      "cell_type": "markdown",
      "metadata": {
        "id": "siUZ_HpQUhSO"
      },
      "source": [
        "## Training"
      ]
    },
    {
      "cell_type": "code",
      "execution_count": 14,
      "metadata": {
        "colab": {
          "base_uri": "https://localhost:8080/",
          "height": 49,
          "referenced_widgets": [
            "ea28558c636d4e02bb5de998c978a444",
            "25cc1d104ee6476aba246a97068e4592",
            "e2b625bcec6443c1a37658865aa25076",
            "90cb293c408043019bd5a7476d7eb757",
            "62d4acd1613a4063b7cdf04102715455",
            "797f8fa659a44ce1a757215702c0b5b6",
            "256ba44485a043ecb70e239514e300b9",
            "3c5dc0383fab49e79fca5a3d39e85993",
            "ced4f78cb7534778bc1db71a5f8a7210",
            "fbd28b783cbb4b0b8b44c43cd9fa8e90",
            "aa07b26dde844bea9f80e290d494bc43"
          ]
        },
        "id": "VDIynUA7JJH5",
        "outputId": "c7911fce-d25a-426a-a444-9ec34e5c3688"
      },
      "outputs": [
        {
          "data": {
            "application/vnd.jupyter.widget-view+json": {
              "model_id": "e9adb37d16af43ae8b8f1753aab128c5",
              "version_major": 2,
              "version_minor": 0
            },
            "text/plain": [
              "epoch 1:   0%|          | 0/1563 [00:00<?, ?it/s]"
            ]
          },
          "metadata": {},
          "output_type": "display_data"
        },
        {
          "name": "stdout",
          "output_type": "stream",
          "text": [
            "LOSS train 0.2874 valid 0.4101\n"
          ]
        },
        {
          "data": {
            "application/vnd.jupyter.widget-view+json": {
              "model_id": "69c67bb56479405987cedff233b005ea",
              "version_major": 2,
              "version_minor": 0
            },
            "text/plain": [
              "epoch 2:   0%|          | 0/1563 [00:00<?, ?it/s]"
            ]
          },
          "metadata": {},
          "output_type": "display_data"
        },
        {
          "name": "stdout",
          "output_type": "stream",
          "text": [
            "LOSS train 0.2820 valid 0.3840\n"
          ]
        },
        {
          "data": {
            "application/vnd.jupyter.widget-view+json": {
              "model_id": "b245558bcbe248e2926d2a6c7cd323b9",
              "version_major": 2,
              "version_minor": 0
            },
            "text/plain": [
              "epoch 3:   0%|          | 0/1563 [00:00<?, ?it/s]"
            ]
          },
          "metadata": {},
          "output_type": "display_data"
        },
        {
          "name": "stdout",
          "output_type": "stream",
          "text": [
            "LOSS train 0.6373 valid 0.3896\n"
          ]
        },
        {
          "data": {
            "application/vnd.jupyter.widget-view+json": {
              "model_id": "8a95adccc67a4fb1b33d626d44915e93",
              "version_major": 2,
              "version_minor": 0
            },
            "text/plain": [
              "epoch 4:   0%|          | 0/1563 [00:00<?, ?it/s]"
            ]
          },
          "metadata": {},
          "output_type": "display_data"
        },
        {
          "name": "stdout",
          "output_type": "stream",
          "text": [
            "LOSS train 0.6367 valid 0.3805\n"
          ]
        },
        {
          "data": {
            "application/vnd.jupyter.widget-view+json": {
              "model_id": "2802bc7bc0b744eca1d1e19eea01fe2c",
              "version_major": 2,
              "version_minor": 0
            },
            "text/plain": [
              "epoch 5:   0%|          | 0/1563 [00:00<?, ?it/s]"
            ]
          },
          "metadata": {},
          "output_type": "display_data"
        },
        {
          "name": "stdout",
          "output_type": "stream",
          "text": [
            "LOSS train 0.4850 valid 0.3630\n"
          ]
        }
      ],
      "source": [
        "# setup the loss function\n",
        "loss_fn = torch.nn.CrossEntropyLoss()\n",
        "# setup the optimizer with the learning rate\n",
        "model_optimizer = optim.Adam(model.parameters(), lr=3e-4)\n",
        "# set a scheduler to decay the learning rate by 0.1 on the 100th 150th epochs\n",
        "model_scheduler = optim.lr_scheduler.MultiStepLR(model_optimizer,\n",
        "                                            milestones=[100, 150], gamma=0.1)\n",
        "\n",
        "# set an empty list to plot the loss later\n",
        "lossi = []\n",
        "# set an initial high value for the validation loss\n",
        "best_vloss = 1_000_000\n",
        "# set the timestamp to save the training model\n",
        "timestamp = datetime.now().strftime('%Y%m%d_%H:%M:%S')\n",
        "# Training loop\n",
        "for epoch in range(5):\n",
        "  for imgs, labels in tqdm_notebook(train_loader, desc='epoch '+str(epoch+1)):\n",
        "    # Make sure gradient tracking is on, and do a pass over the data\n",
        "    model.train(True)\n",
        "    # Transfer to GPU\n",
        "    imgs, labels = imgs.to(device), labels.to(device)\n",
        "    # zero the parameter gradients\n",
        "    model_optimizer.zero_grad()\n",
        "    # Make predictions for this batch\n",
        "    preds = model(imgs)\n",
        "    # Compute the loss and its gradients\n",
        "    loss = loss_fn(preds, labels)\n",
        "    # append this loss to the list for later plotting\n",
        "    lossi.append(loss.item())\n",
        "    # backpropagate the loss\n",
        "    loss.backward()\n",
        "    # adjust parameters based on the calculated gradients\n",
        "    model_optimizer.step()\n",
        "\n",
        "  # step the scheduler for the learning rate decay\n",
        "  model_scheduler.step()\n",
        "  running_vloss = 0.0\n",
        "  # Set the model to evaluation mode, disabling dropout and using population\n",
        "  # statistics for batch normalization.\n",
        "  model.eval()\n",
        "\n",
        "  # Disable gradient computation and reduce memory consumption.\n",
        "  with torch.no_grad():\n",
        "      for i, vdata in enumerate(val_loader):\n",
        "          vinputs, vlabels = vdata\n",
        "          vinputs, vlabels = vinputs.to(device), vlabels.to(device)\n",
        "          voutputs = model(vinputs)\n",
        "          vloss = loss_fn(voutputs, vlabels)\n",
        "          running_vloss += vloss\n",
        "\n",
        "  avg_vloss = running_vloss / (i + 1)\n",
        "  print('LOSS train {:.4f} valid {:.4f}'.format(loss.item(), avg_vloss.item()))\n",
        "\n",
        "  # Track best performance, and save the model's state\n",
        "  if avg_vloss < best_vloss:\n",
        "      best_vloss = avg_vloss\n",
        "      model_path = './model_VisionTransformer_MNIST_{}.pt'.format(epoch+1)\n",
        "      torch.save(model.state_dict(), model_path)"
      ]
    },
    {
      "cell_type": "code",
      "execution_count": 15,
      "metadata": {
        "id": "6Hs7V5my22JW"
      },
      "outputs": [
        {
          "data": {
            "text/plain": [
              "Text(0.5, 1.0, 'Training loss')"
            ]
          },
          "execution_count": 15,
          "metadata": {},
          "output_type": "execute_result"
        },
        {
          "data": {
            "image/png": "[encoded data removed]",
            "text/plain": [
              "<Figure size 640x480 with 1 Axes>"
            ]
          },
          "metadata": {},
          "output_type": "display_data"
        }
      ],
      "source": [
        "# plot the training loss by averaging every 3 steps\n",
        "fig = plt.figure()\n",
        "ax = fig.add_subplot(111)\n",
        "# plot the average loss\n",
        "plt.plot(torch.tensor(lossi).view(-1, 3).mean(1))\n",
        "plt.title('Training loss')"
      ]
    },
    {
      "cell_type": "code",
      "execution_count": 16,
      "metadata": {
        "id": "WJtiupFXAld1"
      },
      "outputs": [
        {
          "data": {
            "application/vnd.jupyter.widget-view+json": {
              "model_id": "83e18922d1ff45f2acf10b2dbcf58851",
              "version_major": 2,
              "version_minor": 0
            },
            "text/plain": [
              "  0%|          | 0/313 [00:00<?, ?it/s]"
            ]
          },
          "metadata": {},
          "output_type": "display_data"
        },
        {
          "name": "stdout",
          "output_type": "stream",
          "text": [
            "Accuracy on test set = 0.8543\n"
          ]
        }
      ],
      "source": [
        "# Set the model to evaluation mode, disabling dropout.\n",
        "model.eval()\n",
        "# evaluate network\n",
        "acc_total = 0\n",
        "with torch.no_grad():\n",
        "  for imgs, labels in tqdm_notebook(test_loader):\n",
        "\n",
        "    imgs, labels = imgs.to(device), labels.to(device)\n",
        "    preds = model(imgs)\n",
        "    pred_cls = preds.data.max(1)[1]\n",
        "    acc_total += pred_cls.eq(labels.data).cpu().sum()\n",
        "\n",
        "acc = acc_total.item()/len(test_loader.dataset)\n",
        "print('Accuracy on test set = '+str(acc))\n"
      ]
    },
    {
      "cell_type": "markdown",
      "metadata": {
        "id": "HCgXgIjuUD7r"
      },
      "source": [
        "## Picking one test sample and running it through the first attention block"
      ]
    },
    {
      "cell_type": "code",
      "execution_count": 17,
      "metadata": {
        "id": "CDFo3pgIiPuh"
      },
      "outputs": [
        {
          "name": "stdout",
          "output_type": "stream",
          "text": [
            "41\n"
          ]
        }
      ],
      "source": [
        "test_sample_index = (test_set.targets==1).nonzero(as_tuple=True)[0][5].item()\n",
        "print(test_sample_index)"
      ]
    },
    {
      "cell_type": "markdown",
      "metadata": {
        "id": "lVM5buibSpeK"
      },
      "source": [
        "## Plotting attention\n",
        "Now we have a normalized squared matrix of size $17\\times 17$. When plotting the first column is the class token. The remaining $16$ columns will be reshaped into a $4\\times 4$ matrix, ordered in a way where each patch has its position in the image. For better visualization, we'll use `interpolate` function to resize the $4\\times 4$ matrix to $28\\times 28$."
      ]
    },
    {
      "cell_type": "code",
      "execution_count": 24,
      "metadata": {},
      "outputs": [
        {
          "data": {
            "image/png": "[encoded data removed]",
            "text/plain": [
              "<Figure size 1200x200 with 4 Axes>"
            ]
          },
          "metadata": {},
          "output_type": "display_data"
        },
        {
          "data": {
            "image/png": "[encoded data removed]",
            "text/plain": [
              "<Figure size 1200x200 with 4 Axes>"
            ]
          },
          "metadata": {},
          "output_type": "display_data"
        },
        {
          "data": {
            "image/png": "[encoded data removed]",
            "text/plain": [
              "<Figure size 1200x200 with 4 Axes>"
            ]
          },
          "metadata": {},
          "output_type": "display_data"
        },
        {
          "data": {
            "image/png": "[encoded data removed]",
            "text/plain": [
              "<Figure size 1200x200 with 4 Axes>"
            ]
          },
          "metadata": {},
          "output_type": "display_data"
        },
        {
          "name": "stdout",
          "output_type": "stream",
          "text": [
            "2\n"
          ]
        }
      ],
      "source": [
        "def plot_attention_maps(test_sample_index):\n",
        "    img_tensor = test_set.data[test_sample_index].to(device)\n",
        "    patches = img_to_patch(img_tensor.unsqueeze(0).unsqueeze(0), patch_size=patch_size)\n",
        "    patches = model.input_layer(patches.float())\n",
        "    transformer_input = torch.cat((model.cls_token, patches), dim=1) + model.pos_embedding\n",
        "    transformer_input_expanded = model.transformer[0].linear[0](transformer_input)[0]\n",
        "\n",
        "    last_dim = (transformer_input_expanded.shape[0]*transformer_input_expanded.shape[1]) / ((num_patches+1)*3*num_heads)\n",
        "    qkv = transformer_input_expanded.reshape(num_patches+1, 3, num_heads, int(last_dim))\n",
        "    q = qkv[:, 0].permute(1, 0, 2)\n",
        "    k = qkv[:, 1].permute(1, 0, 2)\n",
        "    kT = k.permute(0, 2, 1)\n",
        "\n",
        "    attention_matrices = [q[i] @ kT[i] for i in range(num_heads)]\n",
        "\n",
        "    fig, axes = plt.subplots(1, num_heads + 1, figsize=(12,2))\n",
        "    img = np.asarray(img_tensor.cpu())\n",
        "\n",
        "    axes[0].imshow(img, cmap='gray')\n",
        "    if test_sample_index == test_sample_indices[0]:\n",
        "      axes[0].set_title('MNIST test sample', fontsize=10)\n",
        "    axes[0].tick_params(axis='both', which='both', bottom=False, top=False, left=False, right=False,\n",
        "                        labelbottom=False, labeltop=False, labelleft=False, labelright=False)\n",
        "\n",
        "    for i, attention_matrix in enumerate(attention_matrices):\n",
        "        residual_att = torch.eye(attention_matrix.size(1)).to(device)\n",
        "        aug_att_mat = attention_matrix + residual_att\n",
        "        aug_att_mat = aug_att_mat / aug_att_mat.sum(dim=-1).unsqueeze(-1)\n",
        "\n",
        "        joint_attentions = torch.zeros(aug_att_mat.size()).to(device)\n",
        "        joint_attentions[0] = aug_att_mat[0]\n",
        "        for n in range(1, aug_att_mat.size(0)):\n",
        "            joint_attentions[n] = torch.matmul(aug_att_mat[n], joint_attentions[n-1])\n",
        "\n",
        "        attn_heatmap = joint_attentions[0, 1:].reshape((int(image_size/patch_size), int(image_size/patch_size)))\n",
        "        attn_heatmap_resized = F.interpolate(attn_heatmap.unsqueeze(0).unsqueeze(0), [image_size, image_size], mode='bilinear').view(28, 28, 1)\n",
        "\n",
        "        axes[i + 1].imshow(attn_heatmap_resized.detach().cpu().numpy())\n",
        "        if test_sample_index == test_sample_indices[0]:\n",
        "          axes[i + 1].set_title(f'Attention Map Head {i+1}', fontsize=10)\n",
        "        axes[i + 1].tick_params(axis='both', which='both', bottom=False, top=False, left=False, right=False,\n",
        "                            labelbottom=False, labeltop=False, labelleft=False, labelright=False)\n",
        "\n",
        "    plt.subplots_adjust(wspace=0.1)\n",
        "    plt.show()\n",
        "    plt.close()\n",
        "\n",
        "# Seleziona 4 immagini di test\n",
        "test_sample_indices = [(test_set.targets==1).nonzero(as_tuple=True)[0][i].item() for i in range(4)]\n",
        "\n",
        "# Visualizza le mappe di attenzione per ogni immagine\n",
        "for idx in test_sample_indices:\n",
        "    plot_attention_maps(idx)\n",
        "\n",
        "print (test_sample_indices[0])"
      ]
    },
    {
      "cell_type": "code",
      "execution_count": 44,
      "metadata": {},
      "outputs": [
        {
          "name": "stdout",
          "output_type": "stream",
          "text": [
            "Image tensor shape:  torch.Size([28, 28])\n",
            "Input tensor to Transformer:  torch.Size([1, 17, 255])\n",
            "transformer_input_expanded shape:  torch.Size([17, 765])\n",
            "qkv shape:  torch.Size([3, 3, 17, 85])\n",
            "q shape:  torch.Size([3, 17, 85])\n",
            "k shape:  torch.Size([3, 17, 85])\n",
            "attention matrices shape:  torch.Size([3, 17, 17])\n",
            "attention_matrices_mean shape:  torch.Size([3, 17])\n"
          ]
        },
        {
          "data": {
            "image/png": "[encoded data removed]",
            "text/plain": [
              "<Figure size 1600x600 with 4 Axes>"
            ]
          },
          "metadata": {},
          "output_type": "display_data"
        }
      ],
      "source": [
        "# Estrazione dell'indice del campione di test e preparazione dell'immagine\n",
        "test_sample_index = (test_set.targets == 7).nonzero(as_tuple=True)[0][12].item()\n",
        "# Estrazione di un campione di test\n",
        "img_tensor = test_set.data[test_sample_index].to(device)\n",
        "print (\"Image tensor shape: \", img_tensor.shape)\n",
        "# Conversione dell'immagine in patch\n",
        "patches = img_to_patch(img_tensor.unsqueeze(0).unsqueeze(0), patch_size=patch_size)\n",
        "# Passaggio delle patch attraverso lo strato di input per ottenere un tensore di dimensione embed_dim\n",
        "patches = model.input_layer(patches.float())\n",
        "# Aggiunta del token di classe e embedding posizionale\n",
        "transformer_input = torch.cat((model.cls_token, patches), dim=1) + model.pos_embedding\n",
        "print(\"Input tensor to Transformer: \", transformer_input.shape)\n",
        "\n",
        "# Passaggio dell'immagine attraverso il primo blocco di attenzione\n",
        "transformer_input_expanded = model.transformer[0].linear[0](transformer_input).squeeze(0)\n",
        "print(\"transformer_input_expanded shape: \", transformer_input_expanded.shape)\n",
        "\n",
        "# Reshape del risultato della prima attenzione# Reshape del risultato della prima attenzione\n",
        "qkv = transformer_input_expanded.reshape(num_patches + 1, 3, -1, num_heads).permute(1, 3, 0, 2)\n",
        "# Dim: (3, num_heads, num_patches + 1, embedding_size // num_heads)\n",
        "print(\"qkv shape: \", qkv.shape)\n",
        "\n",
        "# Estrazione delle matrici di query e key per tutte le attention heads\n",
        "q = qkv[0]  # Query matrix (num_heads, num_patches + 1, embedding_size // num_heads)\n",
        "k = qkv[1]  # Key matrix (num_heads, num_patches + 1, embedding_size // num_heads)\n",
        "print(\"q shape: \", q.shape)\n",
        "print(\"k shape: \", k.shape)\n",
        "\n",
        "# Moltiplicazione di q e k^T per ottenere le matrici di attenzione per ciascuna head\n",
        "kT = k.transpose(-2, -1)  # Trasposizione per fare la moltiplicazione corretta\n",
        "attention_matrices = torch.matmul(q, kT)  # Dim: (num_heads, num_patches + 1, num_patches + 1)\n",
        "print(\"attention matrices shape: \", attention_matrices.shape)\n",
        "\n",
        "# Normalizzazione delle matrici di attenzione per tutte le heads\n",
        "attention_matrices_mean = torch.mean(attention_matrices, dim=-1)\n",
        "print(\"attention_matrices_mean shape: \", attention_matrices_mean.shape)\n",
        "\n",
        "# Aggiunta delle connessioni residue e normalizzazione\n",
        "residual_att = torch.eye(attention_matrices.size(-1)).to(device)\n",
        "aug_att_mats = attention_matrices + residual_att\n",
        "aug_att_mats = aug_att_mats / aug_att_mats.sum(dim=-1).unsqueeze(-1)\n",
        "\n",
        "# Visualizzazione delle heatmap per ciascuna head\n",
        "fig, axes = plt.subplots(1, 4, figsize=(16, 6))\n",
        "img = np.asarray(img_tensor.cpu())\n",
        "axes[0].imshow(img, cmap='gray')\n",
        "axes[0].set_title('MNIST test sample')\n",
        "axes[0].tick_params(axis='both', which='both', bottom=False, top=False, left=False, right=False,\n",
        "                    labelbottom=False, labeltop=False, labelleft=False, labelright=False)\n",
        "\n",
        "# Visualizzazione delle heatmap per ogni head\n",
        "for i in range(3):  # Le prime 3 heads\n",
        "    attn_heatmap = aug_att_mats[i, 0, 1:].reshape((int(image_size/patch_size), int(image_size/patch_size)))\n",
        "    attn_heatmap_resized = F.interpolate(attn_heatmap.unsqueeze(0).unsqueeze(0), [image_size, image_size], mode='bilinear').view(28, 28, 1)\n",
        "    axes[i + 1].imshow(attn_heatmap_resized.detach().cpu().numpy())\n",
        "    axes[i + 1].set_title(f'Attention head {i + 1}')\n",
        "    axes[i + 1].tick_params(axis='both', which='both', bottom=False, top=False, left=False, right=False,\n",
        "                            labelbottom=False, labeltop=False, labelleft=False, labelright=False)\n",
        "\n",
        "plt.show()\n"
      ]
    }
  ],
  "metadata": {
    "accelerator": "GPU",
    "colab": {
      "gpuType": "T4",
      "provenance": []
    },
    "kernelspec": {
      "display_name": "Python 3",
      "name": "python3"
    },
    "language_info": {
      "codemirror_mode": {
        "name": "ipython",
        "version": 3
      },
      "file_extension": ".py",
      "mimetype": "text/x-python",
      "name": "python",
      "nbconvert_exporter": "python",
      "pygments_lexer": "ipython3",
      "version": "3.9.13"
    },
    "widgets": {
      "application/vnd.jupyter.widget-state+json": {
        "256ba44485a043ecb70e239514e300b9": {
          "model_module": "@jupyter-widgets/controls",
          "model_module_version": "1.5.0",
          "model_name": "DescriptionStyleModel",
          "state": {
            "_model_module": "@jupyter-widgets/controls",
            "_model_module_version": "1.5.0",
            "_model_name": "DescriptionStyleModel",
            "_view_count": null,
            "_view_module": "@jupyter-widgets/base",
            "_view_module_version": "1.2.0",
            "_view_name": "StyleView",
            "description_width": ""
          }
        },
        "25cc1d104ee6476aba246a97068e4592": {
          "model_module": "@jupyter-widgets/controls",
          "model_module_version": "1.5.0",
          "model_name": "HTMLModel",
          "state": {
            "_dom_classes": [],
            "_model_module": "@jupyter-widgets/controls",
            "_model_module_version": "1.5.0",
            "_model_name": "HTMLModel",
            "_view_count": null,
            "_view_module": "@jupyter-widgets/controls",
            "_view_module_version": "1.5.0",
            "_view_name": "HTMLView",
            "description": "",
            "description_tooltip": null,
            "layout": "IPY_MODEL_797f8fa659a44ce1a757215702c0b5b6",
            "placeholder": "​",
            "style": "IPY_MODEL_256ba44485a043ecb70e239514e300b9",
            "value": "epoch 1:   3%"
          }
        },
        "3c5dc0383fab49e79fca5a3d39e85993": {
          "model_module": "@jupyter-widgets/base",
          "model_module_version": "1.2.0",
          "model_name": "LayoutModel",
          "state": {
            "_model_module": "@jupyter-widgets/base",
            "_model_module_version": "1.2.0",
            "_model_name": "LayoutModel",
            "_view_count": null,
            "_view_module": "@jupyter-widgets/base",
            "_view_module_version": "1.2.0",
            "_view_name": "LayoutView",
            "align_content": null,
            "align_items": null,
            "align_self": null,
            "border": null,
            "bottom": null,
            "display": null,
            "flex": null,
            "flex_flow": null,
            "grid_area": null,
            "grid_auto_columns": null,
            "grid_auto_flow": null,
            "grid_auto_rows": null,
            "grid_column": null,
            "grid_gap": null,
            "grid_row": null,
            "grid_template_areas": null,
            "grid_template_columns": null,
            "grid_template_rows": null,
            "height": null,
            "justify_content": null,
            "justify_items": null,
            "left": null,
            "margin": null,
            "max_height": null,
            "max_width": null,
            "min_height": null,
            "min_width": null,
            "object_fit": null,
            "object_position": null,
            "order": null,
            "overflow": null,
            "overflow_x": null,
            "overflow_y": null,
            "padding": null,
            "right": null,
            "top": null,
            "visibility": null,
            "width": null
          }
        },
        "62d4acd1613a4063b7cdf04102715455": {
          "model_module": "@jupyter-widgets/base",
          "model_module_version": "1.2.0",
          "model_name": "LayoutModel",
          "state": {
            "_model_module": "@jupyter-widgets/base",
            "_model_module_version": "1.2.0",
            "_model_name": "LayoutModel",
            "_view_count": null,
            "_view_module": "@jupyter-widgets/base",
            "_view_module_version": "1.2.0",
            "_view_name": "LayoutView",
            "align_content": null,
            "align_items": null,
            "align_self": null,
            "border": null,
            "bottom": null,
            "display": null,
            "flex": null,
            "flex_flow": null,
            "grid_area": null,
            "grid_auto_columns": null,
            "grid_auto_flow": null,
            "grid_auto_rows": null,
            "grid_column": null,
            "grid_gap": null,
            "grid_row": null,
            "grid_template_areas": null,
            "grid_template_columns": null,
            "grid_template_rows": null,
            "height": null,
            "justify_content": null,
            "justify_items": null,
            "left": null,
            "margin": null,
            "max_height": null,
            "max_width": null,
            "min_height": null,
            "min_width": null,
            "object_fit": null,
            "object_position": null,
            "order": null,
            "overflow": null,
            "overflow_x": null,
            "overflow_y": null,
            "padding": null,
            "right": null,
            "top": null,
            "visibility": null,
            "width": null
          }
        },
        "797f8fa659a44ce1a757215702c0b5b6": {
          "model_module": "@jupyter-widgets/base",
          "model_module_version": "1.2.0",
          "model_name": "LayoutModel",
          "state": {
            "_model_module": "@jupyter-widgets/base",
            "_model_module_version": "1.2.0",
            "_model_name": "LayoutModel",
            "_view_count": null,
            "_view_module": "@jupyter-widgets/base",
            "_view_module_version": "1.2.0",
            "_view_name": "LayoutView",
            "align_content": null,
            "align_items": null,
            "align_self": null,
            "border": null,
            "bottom": null,
            "display": null,
            "flex": null,
            "flex_flow": null,
            "grid_area": null,
            "grid_auto_columns": null,
            "grid_auto_flow": null,
            "grid_auto_rows": null,
            "grid_column": null,
            "grid_gap": null,
            "grid_row": null,
            "grid_template_areas": null,
            "grid_template_columns": null,
            "grid_template_rows": null,
            "height": null,
            "justify_content": null,
            "justify_items": null,
            "left": null,
            "margin": null,
            "max_height": null,
            "max_width": null,
            "min_height": null,
            "min_width": null,
            "object_fit": null,
            "object_position": null,
            "order": null,
            "overflow": null,
            "overflow_x": null,
            "overflow_y": null,
            "padding": null,
            "right": null,
            "top": null,
            "visibility": null,
            "width": null
          }
        },
        "90cb293c408043019bd5a7476d7eb757": {
          "model_module": "@jupyter-widgets/controls",
          "model_module_version": "1.5.0",
          "model_name": "HTMLModel",
          "state": {
            "_dom_classes": [],
            "_model_module": "@jupyter-widgets/controls",
            "_model_module_version": "1.5.0",
            "_model_name": "HTMLModel",
            "_view_count": null,
            "_view_module": "@jupyter-widgets/controls",
            "_view_module_version": "1.5.0",
            "_view_name": "HTMLView",
            "description": "",
            "description_tooltip": null,
            "layout": "IPY_MODEL_fbd28b783cbb4b0b8b44c43cd9fa8e90",
            "placeholder": "​",
            "style": "IPY_MODEL_aa07b26dde844bea9f80e290d494bc43",
            "value": " 40/1563 [00:19&lt;10:35,  2.39it/s]"
          }
        },
        "aa07b26dde844bea9f80e290d494bc43": {
          "model_module": "@jupyter-widgets/controls",
          "model_module_version": "1.5.0",
          "model_name": "DescriptionStyleModel",
          "state": {
            "_model_module": "@jupyter-widgets/controls",
            "_model_module_version": "1.5.0",
            "_model_name": "DescriptionStyleModel",
            "_view_count": null,
            "_view_module": "@jupyter-widgets/base",
            "_view_module_version": "1.2.0",
            "_view_name": "StyleView",
            "description_width": ""
          }
        },
        "ced4f78cb7534778bc1db71a5f8a7210": {
          "model_module": "@jupyter-widgets/controls",
          "model_module_version": "1.5.0",
          "model_name": "ProgressStyleModel",
          "state": {
            "_model_module": "@jupyter-widgets/controls",
            "_model_module_version": "1.5.0",
            "_model_name": "ProgressStyleModel",
            "_view_count": null,
            "_view_module": "@jupyter-widgets/base",
            "_view_module_version": "1.2.0",
            "_view_name": "StyleView",
            "bar_color": null,
            "description_width": ""
          }
        },
        "e2b625bcec6443c1a37658865aa25076": {
          "model_module": "@jupyter-widgets/controls",
          "model_module_version": "1.5.0",
          "model_name": "FloatProgressModel",
          "state": {
            "_dom_classes": [],
            "_model_module": "@jupyter-widgets/controls",
            "_model_module_version": "1.5.0",
            "_model_name": "FloatProgressModel",
            "_view_count": null,
            "_view_module": "@jupyter-widgets/controls",
            "_view_module_version": "1.5.0",
            "_view_name": "ProgressView",
            "bar_style": "",
            "description": "",
            "description_tooltip": null,
            "layout": "IPY_MODEL_3c5dc0383fab49e79fca5a3d39e85993",
            "max": 1563,
            "min": 0,
            "orientation": "horizontal",
            "style": "IPY_MODEL_ced4f78cb7534778bc1db71a5f8a7210",
            "value": 41
          }
        },
        "ea28558c636d4e02bb5de998c978a444": {
          "model_module": "@jupyter-widgets/controls",
          "model_module_version": "1.5.0",
          "model_name": "HBoxModel",
          "state": {
            "_dom_classes": [],
            "_model_module": "@jupyter-widgets/controls",
            "_model_module_version": "1.5.0",
            "_model_name": "HBoxModel",
            "_view_count": null,
            "_view_module": "@jupyter-widgets/controls",
            "_view_module_version": "1.5.0",
            "_view_name": "HBoxView",
            "box_style": "",
            "children": [
              "IPY_MODEL_25cc1d104ee6476aba246a97068e4592",
              "IPY_MODEL_e2b625bcec6443c1a37658865aa25076",
              "IPY_MODEL_90cb293c408043019bd5a7476d7eb757"
            ],
            "layout": "IPY_MODEL_62d4acd1613a4063b7cdf04102715455"
          }
        },
        "fbd28b783cbb4b0b8b44c43cd9fa8e90": {
          "model_module": "@jupyter-widgets/base",
          "model_module_version": "1.2.0",
          "model_name": "LayoutModel",
          "state": {
            "_model_module": "@jupyter-widgets/base",
            "_model_module_version": "1.2.0",
            "_model_name": "LayoutModel",
            "_view_count": null,
            "_view_module": "@jupyter-widgets/base",
            "_view_module_version": "1.2.0",
            "_view_name": "LayoutView",
            "align_content": null,
            "align_items": null,
            "align_self": null,
            "border": null,
            "bottom": null,
            "display": null,
            "flex": null,
            "flex_flow": null,
            "grid_area": null,
            "grid_auto_columns": null,
            "grid_auto_flow": null,
            "grid_auto_rows": null,
            "grid_column": null,
            "grid_gap": null,
            "grid_row": null,
            "grid_template_areas": null,
            "grid_template_columns": null,
            "grid_template_rows": null,
            "height": null,
            "justify_content": null,
            "justify_items": null,
            "left": null,
            "margin": null,
            "max_height": null,
            "max_width": null,
            "min_height": null,
            "min_width": null,
            "object_fit": null,
            "object_position": null,
            "order": null,
            "overflow": null,
            "overflow_x": null,
            "overflow_y": null,
            "padding": null,
            "right": null,
            "top": null,
            "visibility": null,
            "width": null
          }
        }
      }
    }
  },
  "nbformat": 4,
  "nbformat_minor": 0
}
